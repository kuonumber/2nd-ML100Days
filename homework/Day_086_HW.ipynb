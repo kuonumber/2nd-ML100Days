{
 "cells": [
  {
   "cell_type": "markdown",
   "metadata": {},
   "source": [
    "## Work\n",
    "1. 試比較 save_best_only 與否的差異\n",
    "2. 請僅存入將 save_weights_only 設定為 True, 並嘗試 reset ipynb 並將模型與權重重新建回並預測 x_test"
   ]
  },
  {
   "cell_type": "code",
   "execution_count": 1,
   "metadata": {
    "ExecuteTime": {
     "end_time": "2020-03-12T08:44:08.539992Z",
     "start_time": "2020-03-12T08:44:03.945816Z"
    }
   },
   "outputs": [
    {
     "name": "stderr",
     "output_type": "stream",
     "text": [
      "Using TensorFlow backend.\n"
     ]
    }
   ],
   "source": [
    "import os\n",
    "import keras\n",
    "\n",
    "# Disable GPU\n",
    "os.environ[\"CUDA_VISIBLE_DEVICES\"] = \"0\""
   ]
  },
  {
   "cell_type": "code",
   "execution_count": 2,
   "metadata": {
    "ExecuteTime": {
     "end_time": "2020-03-12T08:44:08.961967Z",
     "start_time": "2020-03-12T08:44:08.564949Z"
    }
   },
   "outputs": [],
   "source": [
    "train, test = keras.datasets.cifar10.load_data()"
   ]
  },
  {
   "cell_type": "code",
   "execution_count": 3,
   "metadata": {
    "ExecuteTime": {
     "end_time": "2020-03-12T08:44:09.001971Z",
     "start_time": "2020-03-12T08:44:08.995949Z"
    }
   },
   "outputs": [],
   "source": [
    "## 資料前處理\n",
    "def preproc_x(x, flatten=True):\n",
    "    x = x / 255.\n",
    "    if flatten:\n",
    "        x = x.reshape((len(x), -1))\n",
    "    return x\n",
    "\n",
    "def preproc_y(y, num_classes=10):\n",
    "    if y.shape[-1] == 1:\n",
    "        y = keras.utils.to_categorical(y, num_classes)\n",
    "    return y    "
   ]
  },
  {
   "cell_type": "code",
   "execution_count": 4,
   "metadata": {
    "ExecuteTime": {
     "end_time": "2020-03-12T08:44:11.408949Z",
     "start_time": "2020-03-12T08:44:09.038952Z"
    }
   },
   "outputs": [],
   "source": [
    "x_train, y_train = train\n",
    "x_test, y_test = test\n",
    "\n",
    "# Preproc the inputs\n",
    "x_train = preproc_x(x_train)\n",
    "x_test = preproc_x(x_test)\n",
    "\n",
    "# Preprc the outputs\n",
    "y_train = preproc_y(y_train)\n",
    "y_test = preproc_y(y_test)"
   ]
  },
  {
   "cell_type": "code",
   "execution_count": 5,
   "metadata": {
    "ExecuteTime": {
     "end_time": "2020-03-12T08:44:16.491339Z",
     "start_time": "2020-03-12T08:44:16.478340Z"
    }
   },
   "outputs": [],
   "source": [
    "from keras.layers import BatchNormalization\n",
    "\n",
    "\"\"\"\n",
    "建立神經網路，並加入 BN layer\n",
    "\"\"\"\n",
    "def build_mlp(input_shape, output_units=10, num_neurons=[512, 256, 128]):\n",
    "    input_layer = keras.layers.Input(input_shape)\n",
    "    \n",
    "    for i, n_units in enumerate(num_neurons):\n",
    "        if i == 0:\n",
    "            x = keras.layers.Dense(units=n_units, \n",
    "                                   activation=\"relu\", \n",
    "                                   name=\"hidden_layer\"+str(i+1))(input_layer)\n",
    "            x = BatchNormalization()(x)\n",
    "        else:\n",
    "            x = keras.layers.Dense(units=n_units, \n",
    "                                   activation=\"relu\", \n",
    "                                   name=\"hidden_layer\"+str(i+1))(x)\n",
    "            x = BatchNormalization()(x)\n",
    "    \n",
    "    out = keras.layers.Dense(units=output_units, activation=\"softmax\", name=\"output\")(x)\n",
    "    \n",
    "    model = keras.models.Model(inputs=[input_layer], outputs=[out])\n",
    "    return model"
   ]
  },
  {
   "cell_type": "code",
   "execution_count": 8,
   "metadata": {
    "ExecuteTime": {
     "end_time": "2020-03-12T08:45:02.479304Z",
     "start_time": "2020-03-12T08:45:02.475301Z"
    }
   },
   "outputs": [],
   "source": [
    "## 超參數設定\n",
    "LEARNING_RATE = 1e-3\n",
    "EPOCHS = 50\n",
    "BATCH_SIZE = 1024\n",
    "MOMENTUM = 0.95"
   ]
  },
  {
   "cell_type": "code",
   "execution_count": 9,
   "metadata": {
    "ExecuteTime": {
     "end_time": "2020-03-12T08:45:02.680302Z",
     "start_time": "2020-03-12T08:45:02.674312Z"
    }
   },
   "outputs": [],
   "source": [
    "\"\"\"\n",
    "# 載入 Callbacks, 並將監控目標設為 validation loss, 且只存最佳參數時的模型\n",
    "\"\"\"\n",
    "from keras.callbacks import ModelCheckpoint\n",
    "\n",
    "model_ckpt = ModelCheckpoint(filepath=\"./tmp.h5\", \n",
    "                             monitor=\"val_loss\", \n",
    "                             save_best_only=False)"
   ]
  },
  {
   "cell_type": "code",
   "execution_count": 10,
   "metadata": {
    "ExecuteTime": {
     "end_time": "2020-03-12T08:48:48.629635Z",
     "start_time": "2020-03-12T08:45:02.922729Z"
    },
    "scrolled": true
   },
   "outputs": [
    {
     "name": "stdout",
     "output_type": "stream",
     "text": [
      "Model: \"model_2\"\n",
      "_________________________________________________________________\n",
      "Layer (type)                 Output Shape              Param #   \n",
      "=================================================================\n",
      "input_2 (InputLayer)         (None, 3072)              0         \n",
      "_________________________________________________________________\n",
      "hidden_layer1 (Dense)        (None, 512)               1573376   \n",
      "_________________________________________________________________\n",
      "batch_normalization_4 (Batch (None, 512)               2048      \n",
      "_________________________________________________________________\n",
      "hidden_layer2 (Dense)        (None, 256)               131328    \n",
      "_________________________________________________________________\n",
      "batch_normalization_5 (Batch (None, 256)               1024      \n",
      "_________________________________________________________________\n",
      "hidden_layer3 (Dense)        (None, 128)               32896     \n",
      "_________________________________________________________________\n",
      "batch_normalization_6 (Batch (None, 128)               512       \n",
      "_________________________________________________________________\n",
      "output (Dense)               (None, 10)                1290      \n",
      "=================================================================\n",
      "Total params: 1,742,474\n",
      "Trainable params: 1,740,682\n",
      "Non-trainable params: 1,792\n",
      "_________________________________________________________________\n",
      "Train on 50000 samples, validate on 10000 samples\n",
      "Epoch 1/50\n",
      "50000/50000 [==============================] - 6s 122us/step - loss: 2.2269 - accuracy: 0.2651 - val_loss: 2.1197 - val_accuracy: 0.2418\n",
      "Epoch 2/50\n",
      "50000/50000 [==============================] - 4s 85us/step - loss: 1.7550 - accuracy: 0.3943 - val_loss: 1.9909 - val_accuracy: 0.2869\n",
      "Epoch 3/50\n",
      "50000/50000 [==============================] - 4s 84us/step - loss: 1.6252 - accuracy: 0.4344 - val_loss: 1.8471 - val_accuracy: 0.3521\n",
      "Epoch 4/50\n",
      "50000/50000 [==============================] - 5s 101us/step - loss: 1.5483 - accuracy: 0.4610 - val_loss: 1.7341 - val_accuracy: 0.3941\n",
      "Epoch 5/50\n",
      "50000/50000 [==============================] - 5s 91us/step - loss: 1.4908 - accuracy: 0.4804 - val_loss: 1.6514 - val_accuracy: 0.4235\n",
      "Epoch 6/50\n",
      "50000/50000 [==============================] - 5s 97us/step - loss: 1.4434 - accuracy: 0.4987 - val_loss: 1.5919 - val_accuracy: 0.4405\n",
      "Epoch 7/50\n",
      "50000/50000 [==============================] - 5s 107us/step - loss: 1.4041 - accuracy: 0.5137 - val_loss: 1.5546 - val_accuracy: 0.4480\n",
      "Epoch 8/50\n",
      "50000/50000 [==============================] - 5s 94us/step - loss: 1.3671 - accuracy: 0.5260 - val_loss: 1.5280 - val_accuracy: 0.4642\n",
      "Epoch 9/50\n",
      "50000/50000 [==============================] - 4s 89us/step - loss: 1.3337 - accuracy: 0.5373 - val_loss: 1.4989 - val_accuracy: 0.4707\n",
      "Epoch 10/50\n",
      "50000/50000 [==============================] - 4s 85us/step - loss: 1.3037 - accuracy: 0.5483 - val_loss: 1.5041 - val_accuracy: 0.4703\n",
      "Epoch 11/50\n",
      "50000/50000 [==============================] - 4s 84us/step - loss: 1.2764 - accuracy: 0.5596 - val_loss: 1.4953 - val_accuracy: 0.4735\n",
      "Epoch 12/50\n",
      "50000/50000 [==============================] - 6s 113us/step - loss: 1.2489 - accuracy: 0.5692 - val_loss: 1.4803 - val_accuracy: 0.4811\n",
      "Epoch 13/50\n",
      "50000/50000 [==============================] - 4s 82us/step - loss: 1.2232 - accuracy: 0.5766 - val_loss: 1.4717 - val_accuracy: 0.4790\n",
      "Epoch 14/50\n",
      "50000/50000 [==============================] - 4s 85us/step - loss: 1.1987 - accuracy: 0.5864 - val_loss: 1.4694 - val_accuracy: 0.4849\n",
      "Epoch 15/50\n",
      "50000/50000 [==============================] - 4s 82us/step - loss: 1.1737 - accuracy: 0.5963 - val_loss: 1.4610 - val_accuracy: 0.4867\n",
      "Epoch 16/50\n",
      "50000/50000 [==============================] - 4s 83us/step - loss: 1.1501 - accuracy: 0.6059 - val_loss: 1.4585 - val_accuracy: 0.4877\n",
      "Epoch 17/50\n",
      "50000/50000 [==============================] - 4s 83us/step - loss: 1.1266 - accuracy: 0.6137 - val_loss: 1.4688 - val_accuracy: 0.4902\n",
      "Epoch 18/50\n",
      "50000/50000 [==============================] - 4s 85us/step - loss: 1.1043 - accuracy: 0.6227 - val_loss: 1.4598 - val_accuracy: 0.4885\n",
      "Epoch 19/50\n",
      "50000/50000 [==============================] - 4s 90us/step - loss: 1.0826 - accuracy: 0.6312 - val_loss: 1.4676 - val_accuracy: 0.4878\n",
      "Epoch 20/50\n",
      "50000/50000 [==============================] - 4s 86us/step - loss: 1.0599 - accuracy: 0.6402 - val_loss: 1.4601 - val_accuracy: 0.4870\n",
      "Epoch 21/50\n",
      "50000/50000 [==============================] - 4s 84us/step - loss: 1.0389 - accuracy: 0.6464 - val_loss: 1.4704 - val_accuracy: 0.4943\n",
      "Epoch 22/50\n",
      "50000/50000 [==============================] - 4s 83us/step - loss: 1.0180 - accuracy: 0.6557 - val_loss: 1.4651 - val_accuracy: 0.4927\n",
      "Epoch 23/50\n",
      "50000/50000 [==============================] - 4s 82us/step - loss: 0.9956 - accuracy: 0.6630 - val_loss: 1.4646 - val_accuracy: 0.4876\n",
      "Epoch 24/50\n",
      "50000/50000 [==============================] - 4s 82us/step - loss: 0.9762 - accuracy: 0.6708 - val_loss: 1.4698 - val_accuracy: 0.4951\n",
      "Epoch 25/50\n",
      "50000/50000 [==============================] - 4s 85us/step - loss: 0.9544 - accuracy: 0.6799 - val_loss: 1.4595 - val_accuracy: 0.4987\n",
      "Epoch 26/50\n",
      "50000/50000 [==============================] - 5s 91us/step - loss: 0.9334 - accuracy: 0.6868 - val_loss: 1.4590 - val_accuracy: 0.4995\n",
      "Epoch 27/50\n",
      "50000/50000 [==============================] - 4s 83us/step - loss: 0.9138 - accuracy: 0.6933 - val_loss: 1.4700 - val_accuracy: 0.4939\n",
      "Epoch 28/50\n",
      "50000/50000 [==============================] - 4s 82us/step - loss: 0.8943 - accuracy: 0.7013 - val_loss: 1.4781 - val_accuracy: 0.4957\n",
      "Epoch 29/50\n",
      "50000/50000 [==============================] - 4s 84us/step - loss: 0.8764 - accuracy: 0.7105 - val_loss: 1.4991 - val_accuracy: 0.4945\n",
      "Epoch 30/50\n",
      "50000/50000 [==============================] - 4s 83us/step - loss: 0.8553 - accuracy: 0.7156 - val_loss: 1.4739 - val_accuracy: 0.4993\n",
      "Epoch 31/50\n",
      "50000/50000 [==============================] - 4s 82us/step - loss: 0.8350 - accuracy: 0.7244 - val_loss: 1.4967 - val_accuracy: 0.4957\n",
      "Epoch 32/50\n",
      "50000/50000 [==============================] - 4s 85us/step - loss: 0.8159 - accuracy: 0.7325 - val_loss: 1.5075 - val_accuracy: 0.4975\n",
      "Epoch 33/50\n",
      "50000/50000 [==============================] - 4s 83us/step - loss: 0.7972 - accuracy: 0.7384 - val_loss: 1.5150 - val_accuracy: 0.4895\n",
      "Epoch 34/50\n",
      "50000/50000 [==============================] - 4s 82us/step - loss: 0.7785 - accuracy: 0.7461 - val_loss: 1.5226 - val_accuracy: 0.5011\n",
      "Epoch 35/50\n",
      "50000/50000 [==============================] - 4s 82us/step - loss: 0.7587 - accuracy: 0.7546 - val_loss: 1.5234 - val_accuracy: 0.4985\n",
      "Epoch 36/50\n",
      "50000/50000 [==============================] - 4s 89us/step - loss: 0.7404 - accuracy: 0.7627 - val_loss: 1.5245 - val_accuracy: 0.4950\n",
      "Epoch 37/50\n",
      "50000/50000 [==============================] - 5s 91us/step - loss: 0.7196 - accuracy: 0.7704 - val_loss: 1.5339 - val_accuracy: 0.5019\n",
      "Epoch 38/50\n",
      "50000/50000 [==============================] - 4s 87us/step - loss: 0.7000 - accuracy: 0.7788 - val_loss: 1.5652 - val_accuracy: 0.4916\n",
      "Epoch 39/50\n",
      "50000/50000 [==============================] - 5s 108us/step - loss: 0.6836 - accuracy: 0.7857 - val_loss: 1.5468 - val_accuracy: 0.4978\n",
      "Epoch 40/50\n",
      "50000/50000 [==============================] - 5s 93us/step - loss: 0.6652 - accuracy: 0.7911 - val_loss: 1.5673 - val_accuracy: 0.4938\n",
      "Epoch 41/50\n",
      "50000/50000 [==============================] - 4s 83us/step - loss: 0.6460 - accuracy: 0.7978 - val_loss: 1.5632 - val_accuracy: 0.4955\n",
      "Epoch 42/50\n",
      "50000/50000 [==============================] - 4s 82us/step - loss: 0.6277 - accuracy: 0.8062 - val_loss: 1.5917 - val_accuracy: 0.4934\n",
      "Epoch 43/50\n",
      "50000/50000 [==============================] - 4s 84us/step - loss: 0.6094 - accuracy: 0.8138 - val_loss: 1.5924 - val_accuracy: 0.4955\n",
      "Epoch 44/50\n",
      "50000/50000 [==============================] - 4s 82us/step - loss: 0.5935 - accuracy: 0.8196 - val_loss: 1.5959 - val_accuracy: 0.4944\n",
      "Epoch 45/50\n",
      "50000/50000 [==============================] - 4s 82us/step - loss: 0.5749 - accuracy: 0.8275 - val_loss: 1.5985 - val_accuracy: 0.4949\n",
      "Epoch 46/50\n"
     ]
    },
    {
     "name": "stdout",
     "output_type": "stream",
     "text": [
      "50000/50000 [==============================] - 4s 83us/step - loss: 0.5567 - accuracy: 0.8364 - val_loss: 1.6398 - val_accuracy: 0.4951\n",
      "Epoch 47/50\n",
      "50000/50000 [==============================] - 4s 84us/step - loss: 0.5404 - accuracy: 0.8420 - val_loss: 1.6394 - val_accuracy: 0.4948\n",
      "Epoch 48/50\n",
      "50000/50000 [==============================] - 4s 83us/step - loss: 0.5241 - accuracy: 0.8488 - val_loss: 1.6691 - val_accuracy: 0.4906\n",
      "Epoch 49/50\n",
      "50000/50000 [==============================] - 4s 82us/step - loss: 0.5071 - accuracy: 0.8564 - val_loss: 1.6770 - val_accuracy: 0.4974\n",
      "Epoch 50/50\n",
      "50000/50000 [==============================] - 4s 82us/step - loss: 0.4909 - accuracy: 0.8610 - val_loss: 1.6832 - val_accuracy: 0.4896\n"
     ]
    },
    {
     "data": {
      "text/plain": [
       "<keras.callbacks.callbacks.History at 0x20e55d05908>"
      ]
     },
     "execution_count": 10,
     "metadata": {},
     "output_type": "execute_result"
    }
   ],
   "source": [
    "model = build_mlp(input_shape=x_train.shape[1:])\n",
    "model.summary()\n",
    "optimizer = keras.optimizers.SGD(lr=LEARNING_RATE, nesterov=True, momentum=MOMENTUM)\n",
    "model.compile(loss=\"categorical_crossentropy\", metrics=[\"accuracy\"], optimizer=optimizer)\n",
    "\n",
    "model.fit(x_train, y_train, \n",
    "          epochs=EPOCHS, \n",
    "          batch_size=BATCH_SIZE, \n",
    "          validation_data=(x_test, y_test), \n",
    "          shuffle=True,\n",
    "          callbacks=[model_ckpt]\n",
    "         )"
   ]
  },
  {
   "cell_type": "code",
   "execution_count": 11,
   "metadata": {
    "ExecuteTime": {
     "end_time": "2020-03-12T09:34:58.299850Z",
     "start_time": "2020-03-12T09:34:53.971162Z"
    }
   },
   "outputs": [
    {
     "name": "stdout",
     "output_type": "stream",
     "text": [
      "10000/10000 [==============================] - 2s 217us/step\n"
     ]
    }
   ],
   "source": [
    "# Collect results\n",
    "train_loss = model.history.history[\"loss\"]\n",
    "valid_loss = model.history.history[\"val_loss\"]\n",
    "train_acc = model.history.history[\"accuracy\"]\n",
    "valid_acc = model.history.history[\"val_accuracy\"]\n",
    "\n",
    "# Load back\n",
    "model = keras.models.load_model(\"./tmp.h5\")\n",
    "loss_loadback, acc_loadback = model.evaluate(x_test, y_test)"
   ]
  },
  {
   "cell_type": "code",
   "execution_count": 12,
   "metadata": {
    "ExecuteTime": {
     "end_time": "2020-03-12T09:34:59.150867Z",
     "start_time": "2020-03-12T09:34:58.368853Z"
    }
   },
   "outputs": [
    {
     "data": {
      "image/png": "[encoded data removed]",
      "text/plain": [
       "<Figure size 432x288 with 1 Axes>"
      ]
     },
     "metadata": {
      "needs_background": "light"
     },
     "output_type": "display_data"
    },
    {
     "data": {
      "image/png": "[encoded data removed]",
      "text/plain": [
       "<Figure size 432x288 with 1 Axes>"
      ]
     },
     "metadata": {
      "needs_background": "light"
     },
     "output_type": "display_data"
    }
   ],
   "source": [
    "import matplotlib.pyplot as plt\n",
    "%matplotlib inline\n",
    "\n",
    "plt.plot(range(len(train_loss)), train_loss, label=\"train loss\")\n",
    "plt.plot(range(len(valid_loss)), valid_loss, label=\"valid loss\")\n",
    "plt.hlines(y=loss_loadback, xmin=0, xmax=len(train_loss), colors='r', linestyles='--')\n",
    "plt.legend()\n",
    "plt.title(\"Loss\")\n",
    "plt.show()\n",
    "\n",
    "plt.plot(range(len(train_acc)), train_acc, label=\"train accuracy\")\n",
    "plt.plot(range(len(valid_acc)), valid_acc, label=\"valid accuracy\")\n",
    "plt.hlines(y=acc_loadback, xmin=0, xmax=len(train_loss), colors='r', linestyles='--')\n",
    "plt.legend()\n",
    "plt.title(\"Accuracy\")\n",
    "plt.show()"
   ]
  },
  {
   "cell_type": "code",
   "execution_count": 13,
   "metadata": {
    "ExecuteTime": {
     "end_time": "2020-03-12T09:36:44.934295Z",
     "start_time": "2020-03-12T09:36:44.923294Z"
    }
   },
   "outputs": [],
   "source": [
    "\n",
    "model_ckpt = ModelCheckpoint(filepath=\"./tmp.h5\", \n",
    "                             monitor=\"val_loss\", \n",
    "                             save_best_only=False,\n",
    "                            save_weights_only=True,\n",
    "                            )"
   ]
  },
  {
   "cell_type": "code",
   "execution_count": null,
   "metadata": {
    "ExecuteTime": {
     "end_time": "2020-03-12T09:40:56.838737Z",
     "start_time": "2020-03-12T09:37:07.500316Z"
    }
   },
   "outputs": [],
   "source": [
    "model = build_mlp(input_shape=x_train.shape[1:])\n",
    "model.summary()\n",
    "optimizer = keras.optimizers.SGD(lr=LEARNING_RATE, nesterov=True, momentum=MOMENTUM)\n",
    "model.compile(loss=\"categorical_crossentropy\", metrics=[\"accuracy\"], optimizer=optimizer)\n",
    "\n",
    "model.fit(x_train, y_train, \n",
    "          epochs=EPOCHS, \n",
    "          batch_size=BATCH_SIZE, \n",
    "          validation_data=(x_test, y_test), \n",
    "          shuffle=True,\n",
    "          callbacks=[model_ckpt]\n",
    "         )\n",
    "# Collect results\n",
    "train_loss = model.history.history[\"loss\"]\n",
    "valid_loss = model.history.history[\"val_loss\"]\n",
    "train_acc = model.history.history[\"accuracy\"]\n",
    "valid_acc = model.history.history[\"val_accuracy\"]"
   ]
  },
  {
   "cell_type": "code",
   "execution_count": 25,
   "metadata": {
    "ExecuteTime": {
     "end_time": "2020-03-13T01:58:49.746328Z",
     "start_time": "2020-03-13T01:58:47.249333Z"
    }
   },
   "outputs": [
    {
     "name": "stdout",
     "output_type": "stream",
     "text": [
      "Model: \"model_9\"\n",
      "_________________________________________________________________\n",
      "Layer (type)                 Output Shape              Param #   \n",
      "=================================================================\n",
      "input_9 (InputLayer)         (None, 3072)              0         \n",
      "_________________________________________________________________\n",
      "hidden_layer1 (Dense)        (None, 512)               1573376   \n",
      "_________________________________________________________________\n",
      "batch_normalization_25 (Batc (None, 512)               2048      \n",
      "_________________________________________________________________\n",
      "hidden_layer2 (Dense)        (None, 256)               131328    \n",
      "_________________________________________________________________\n",
      "batch_normalization_26 (Batc (None, 256)               1024      \n",
      "_________________________________________________________________\n",
      "hidden_layer3 (Dense)        (None, 128)               32896     \n",
      "_________________________________________________________________\n",
      "batch_normalization_27 (Batc (None, 128)               512       \n",
      "_________________________________________________________________\n",
      "output (Dense)               (None, 10)                1290      \n",
      "=================================================================\n",
      "Total params: 1,742,474\n",
      "Trainable params: 1,740,682\n",
      "Non-trainable params: 1,792\n",
      "_________________________________________________________________\n",
      "10000/10000 [==============================] - 2s 192us/step\n"
     ]
    }
   ],
   "source": [
    "# Load back\n",
    "model = build_mlp(input_shape=x_train.shape[1:])\n",
    "model.summary()\n",
    "\n",
    "optimizer = keras.optimizers.SGD(lr=LEARNING_RATE, nesterov=True, momentum=MOMENTUM)\n",
    "model.compile(loss=\"categorical_crossentropy\", metrics=[\"accuracy\"], optimizer=optimizer)\n",
    "model.load_weights(\"./tmp.h5\")\n",
    "\n",
    "loss_loadback, acc_loadback = model.evaluate(x_test, y_test)"
   ]
  },
  {
   "cell_type": "markdown",
   "metadata": {},
   "source": [
    "* 如果只是要做 evaluate 的話，那通常是不需要再做 compile 的；而假如你要 load 回來再做訓練的話，你需要在 compile 後再做 load_weight 的動作，印象中某個版本前是會重新 initalize weights，現在不太確定 Tensorflow 是否已經把這件事情修改掉了，所以保險的作法仍然建議是在 compile 後做讀取。"
   ]
  },
  {
   "cell_type": "code",
   "execution_count": 23,
   "metadata": {
    "ExecuteTime": {
     "end_time": "2020-03-13T01:57:06.789856Z",
     "start_time": "2020-03-13T01:57:06.355086Z"
    }
   },
   "outputs": [
    {
     "data": {
      "image/png": "[encoded data removed]",
      "text/plain": [
       "<Figure size 432x288 with 1 Axes>"
      ]
     },
     "metadata": {
      "needs_background": "light"
     },
     "output_type": "display_data"
    },
    {
     "data": {
      "image/png": "[encoded data removed]",
      "text/plain": [
       "<Figure size 432x288 with 1 Axes>"
      ]
     },
     "metadata": {
      "needs_background": "light"
     },
     "output_type": "display_data"
    }
   ],
   "source": [
    "plt.plot(range(len(train_loss)), train_loss, label=\"train loss\")\n",
    "plt.plot(range(len(valid_loss)), valid_loss, label=\"valid loss\")\n",
    "plt.hlines(y=loss_loadback, xmin=0, xmax=len(train_loss), colors='r', linestyles='--')\n",
    "plt.legend()\n",
    "plt.title(\"Loss\")\n",
    "plt.show()\n",
    "\n",
    "plt.plot(range(len(train_acc)), train_acc, label=\"train accuracy\")\n",
    "plt.plot(range(len(valid_acc)), valid_acc, label=\"valid accuracy\")\n",
    "plt.hlines(y=acc_loadback, xmin=0, xmax=len(train_loss), colors='r', linestyles='--')\n",
    "plt.legend()\n",
    "plt.title(\"Accuracy\")\n",
    "plt.show()"
   ]
  },
  {
   "cell_type": "code",
   "execution_count": null,
   "metadata": {},
   "outputs": [],
   "source": []
  }
 ],
 "metadata": {
  "kernelspec": {
   "display_name": "Python 3",
   "language": "python",
   "name": "python3"
  },
  "language_info": {
   "codemirror_mode": {
    "name": "ipython",
    "version": 3
   },
   "file_extension": ".py",
   "mimetype": "text/x-python",
   "name": "python",
   "nbconvert_exporter": "python",
   "pygments_lexer": "ipython3",
   "version": "3.6.10"
  },
  "toc": {
   "base_numbering": 1,
   "nav_menu": {},
   "number_sections": true,
   "sideBar": true,
   "skip_h1_title": false,
   "title_cell": "Table of Contents",
   "title_sidebar": "Contents",
   "toc_cell": false,
   "toc_position": {},
   "toc_section_display": true,
   "toc_window_display": false
  },
  "varInspector": {
   "cols": {
    "lenName": 16,
    "lenType": 16,
    "lenVar": 40
   },
   "kernels_config": {
    "python": {
     "delete_cmd_postfix": "",
     "delete_cmd_prefix": "del ",
     "library": "var_list.py",
     "varRefreshCmd": "print(var_dic_list())"
    },
    "r": {
     "delete_cmd_postfix": ") ",
     "delete_cmd_prefix": "rm(",
     "library": "var_list.r",
     "varRefreshCmd": "cat(var_dic_list()) "
    }
   },
   "types_to_exclude": [
    "module",
    "function",
    "builtin_function_or_method",
    "instance",
    "_Feature"
   ],
   "window_display": false
  }
 },
 "nbformat": 4,
 "nbformat_minor": 2
}
