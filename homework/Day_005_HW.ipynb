{
 "cells": [
  {
   "cell_type": "code",
   "execution_count": 1,
   "metadata": {
    "ExecuteTime": {
     "end_time": "2019-04-23T15:22:04.510339Z",
     "start_time": "2019-04-23T15:22:03.996375Z"
    }
   },
   "outputs": [],
   "source": [
    "# Import 需要的套件\n",
    "import os\n",
    "import numpy as np\n",
    "import pandas as pd\n",
    "import matplotlib.pyplot as plt\n",
    "%matplotlib inline\n"
   ]
  },
  {
   "cell_type": "code",
   "execution_count": 2,
   "metadata": {
    "ExecuteTime": {
     "end_time": "2019-04-23T15:22:08.595229Z",
     "start_time": "2019-04-23T15:22:04.533695Z"
    }
   },
   "outputs": [],
   "source": [
    "df = pd.read_csv('../data/Part01/application_train.csv')"
   ]
  },
  {
   "cell_type": "markdown",
   "metadata": {},
   "source": [
    "## 練習時間"
   ]
  },
  {
   "cell_type": "markdown",
   "metadata": {},
   "source": [
    "觀察有興趣的欄位的資料分佈，並嘗試找出有趣的訊息\n",
    "#### Eg\n",
    "- 計算任意欄位的平均數及標準差\n",
    "- 畫出任意欄位的[直方圖](https://zh.wikipedia.org/zh-tw/%E7%9B%B4%E6%96%B9%E5%9B%BE)\n",
    "\n",
    "### Hints:\n",
    "- [Descriptive Statistics For pandas Dataframe](https://chrisalbon.com/python/data_wrangling/pandas_dataframe_descriptive_stats/)\n",
    "- [pandas 中的繪圖函數](https://amaozhao.gitbooks.io/pandas-notebook/content/pandas%E4%B8%AD%E7%9A%84%E7%BB%98%E5%9B%BE%E5%87%BD%E6%95%B0.html)\n"
   ]
  },
  {
   "cell_type": "code",
   "execution_count": 15,
   "metadata": {
    "ExecuteTime": {
     "end_time": "2019-04-23T15:25:50.028934Z",
     "start_time": "2019-04-23T15:25:49.917391Z"
    },
    "scrolled": true
   },
   "outputs": [],
   "source": [
    "df_selected = df.select_dtypes(include='float').iloc[:,0:3]"
   ]
  },
  {
   "cell_type": "code",
   "execution_count": 4,
   "metadata": {
    "ExecuteTime": {
     "end_time": "2019-04-23T15:22:09.368203Z",
     "start_time": "2019-04-23T15:22:09.295242Z"
    },
    "collapsed": true
   },
   "outputs": [
    {
     "data": {
      "text/html": [
       "<div>\n",
       "<style scoped>\n",
       "    .dataframe tbody tr th:only-of-type {\n",
       "        vertical-align: middle;\n",
       "    }\n",
       "\n",
       "    .dataframe tbody tr th {\n",
       "        vertical-align: top;\n",
       "    }\n",
       "\n",
       "    .dataframe thead th {\n",
       "        text-align: right;\n",
       "    }\n",
       "</style>\n",
       "<table border=\"1\" class=\"dataframe\">\n",
       "  <thead>\n",
       "    <tr style=\"text-align: right;\">\n",
       "      <th></th>\n",
       "      <th>AMT_INCOME_TOTAL</th>\n",
       "      <th>AMT_CREDIT</th>\n",
       "      <th>AMT_ANNUITY</th>\n",
       "    </tr>\n",
       "  </thead>\n",
       "  <tbody>\n",
       "    <tr>\n",
       "      <th>count</th>\n",
       "      <td>3.075110e+05</td>\n",
       "      <td>3.075110e+05</td>\n",
       "      <td>307499.000000</td>\n",
       "    </tr>\n",
       "    <tr>\n",
       "      <th>mean</th>\n",
       "      <td>1.687979e+05</td>\n",
       "      <td>5.990260e+05</td>\n",
       "      <td>27108.573909</td>\n",
       "    </tr>\n",
       "    <tr>\n",
       "      <th>std</th>\n",
       "      <td>2.371231e+05</td>\n",
       "      <td>4.024908e+05</td>\n",
       "      <td>14493.737315</td>\n",
       "    </tr>\n",
       "    <tr>\n",
       "      <th>min</th>\n",
       "      <td>2.565000e+04</td>\n",
       "      <td>4.500000e+04</td>\n",
       "      <td>1615.500000</td>\n",
       "    </tr>\n",
       "    <tr>\n",
       "      <th>25%</th>\n",
       "      <td>1.125000e+05</td>\n",
       "      <td>2.700000e+05</td>\n",
       "      <td>16524.000000</td>\n",
       "    </tr>\n",
       "    <tr>\n",
       "      <th>50%</th>\n",
       "      <td>1.471500e+05</td>\n",
       "      <td>5.135310e+05</td>\n",
       "      <td>24903.000000</td>\n",
       "    </tr>\n",
       "    <tr>\n",
       "      <th>75%</th>\n",
       "      <td>2.025000e+05</td>\n",
       "      <td>8.086500e+05</td>\n",
       "      <td>34596.000000</td>\n",
       "    </tr>\n",
       "    <tr>\n",
       "      <th>max</th>\n",
       "      <td>1.170000e+08</td>\n",
       "      <td>4.050000e+06</td>\n",
       "      <td>258025.500000</td>\n",
       "    </tr>\n",
       "  </tbody>\n",
       "</table>\n",
       "</div>"
      ],
      "text/plain": [
       "       AMT_INCOME_TOTAL    AMT_CREDIT    AMT_ANNUITY\n",
       "count      3.075110e+05  3.075110e+05  307499.000000\n",
       "mean       1.687979e+05  5.990260e+05   27108.573909\n",
       "std        2.371231e+05  4.024908e+05   14493.737315\n",
       "min        2.565000e+04  4.500000e+04    1615.500000\n",
       "25%        1.125000e+05  2.700000e+05   16524.000000\n",
       "50%        1.471500e+05  5.135310e+05   24903.000000\n",
       "75%        2.025000e+05  8.086500e+05   34596.000000\n",
       "max        1.170000e+08  4.050000e+06  258025.500000"
      ]
     },
     "execution_count": 4,
     "metadata": {},
     "output_type": "execute_result"
    }
   ],
   "source": [
    "df_selected.describe()"
   ]
  },
  {
   "cell_type": "code",
   "execution_count": 5,
   "metadata": {
    "ExecuteTime": {
     "end_time": "2019-04-23T15:22:09.658949Z",
     "start_time": "2019-04-23T15:22:09.655574Z"
    }
   },
   "outputs": [],
   "source": [
    "pd.options.display.float_format = '{:,.2f}'.format\n",
    "# pd.set_option('display.max_rows', 500)\n",
    "# pd.set_option('display.max_columns', 500)\n",
    "# pd.set_option('display.width', 1000)"
   ]
  },
  {
   "cell_type": "code",
   "execution_count": 6,
   "metadata": {
    "ExecuteTime": {
     "end_time": "2019-04-23T15:22:09.987087Z",
     "start_time": "2019-04-23T15:22:09.921405Z"
    }
   },
   "outputs": [
    {
     "data": {
      "text/html": [
       "<div>\n",
       "<style scoped>\n",
       "    .dataframe tbody tr th:only-of-type {\n",
       "        vertical-align: middle;\n",
       "    }\n",
       "\n",
       "    .dataframe tbody tr th {\n",
       "        vertical-align: top;\n",
       "    }\n",
       "\n",
       "    .dataframe thead th {\n",
       "        text-align: right;\n",
       "    }\n",
       "</style>\n",
       "<table border=\"1\" class=\"dataframe\">\n",
       "  <thead>\n",
       "    <tr style=\"text-align: right;\">\n",
       "      <th></th>\n",
       "      <th>AMT_INCOME_TOTAL</th>\n",
       "      <th>AMT_CREDIT</th>\n",
       "      <th>AMT_ANNUITY</th>\n",
       "    </tr>\n",
       "  </thead>\n",
       "  <tbody>\n",
       "    <tr>\n",
       "      <th>count</th>\n",
       "      <td>307,511.00</td>\n",
       "      <td>307,511.00</td>\n",
       "      <td>307,499.00</td>\n",
       "    </tr>\n",
       "    <tr>\n",
       "      <th>mean</th>\n",
       "      <td>168,797.92</td>\n",
       "      <td>599,026.00</td>\n",
       "      <td>27,108.57</td>\n",
       "    </tr>\n",
       "    <tr>\n",
       "      <th>std</th>\n",
       "      <td>237,123.15</td>\n",
       "      <td>402,490.78</td>\n",
       "      <td>14,493.74</td>\n",
       "    </tr>\n",
       "    <tr>\n",
       "      <th>min</th>\n",
       "      <td>25,650.00</td>\n",
       "      <td>45,000.00</td>\n",
       "      <td>1,615.50</td>\n",
       "    </tr>\n",
       "    <tr>\n",
       "      <th>25%</th>\n",
       "      <td>112,500.00</td>\n",
       "      <td>270,000.00</td>\n",
       "      <td>16,524.00</td>\n",
       "    </tr>\n",
       "    <tr>\n",
       "      <th>50%</th>\n",
       "      <td>147,150.00</td>\n",
       "      <td>513,531.00</td>\n",
       "      <td>24,903.00</td>\n",
       "    </tr>\n",
       "    <tr>\n",
       "      <th>75%</th>\n",
       "      <td>202,500.00</td>\n",
       "      <td>808,650.00</td>\n",
       "      <td>34,596.00</td>\n",
       "    </tr>\n",
       "    <tr>\n",
       "      <th>max</th>\n",
       "      <td>117,000,000.00</td>\n",
       "      <td>4,050,000.00</td>\n",
       "      <td>258,025.50</td>\n",
       "    </tr>\n",
       "  </tbody>\n",
       "</table>\n",
       "</div>"
      ],
      "text/plain": [
       "       AMT_INCOME_TOTAL   AMT_CREDIT  AMT_ANNUITY\n",
       "count        307,511.00   307,511.00   307,499.00\n",
       "mean         168,797.92   599,026.00    27,108.57\n",
       "std          237,123.15   402,490.78    14,493.74\n",
       "min           25,650.00    45,000.00     1,615.50\n",
       "25%          112,500.00   270,000.00    16,524.00\n",
       "50%          147,150.00   513,531.00    24,903.00\n",
       "75%          202,500.00   808,650.00    34,596.00\n",
       "max      117,000,000.00 4,050,000.00   258,025.50"
      ]
     },
     "execution_count": 6,
     "metadata": {},
     "output_type": "execute_result"
    }
   ],
   "source": [
    "df_selected.describe()"
   ]
  },
  {
   "cell_type": "code",
   "execution_count": 27,
   "metadata": {
    "ExecuteTime": {
     "end_time": "2019-04-23T15:36:34.028144Z",
     "start_time": "2019-04-23T15:36:31.361851Z"
    }
   },
   "outputs": [
    {
     "data": {
      "text/plain": [
       "array([<matplotlib.axes._subplots.AxesSubplot object at 0x12d8417f0>,\n",
       "       <matplotlib.axes._subplots.AxesSubplot object at 0x12ee54e80>,\n",
       "       <matplotlib.axes._subplots.AxesSubplot object at 0x12edd7f98>],\n",
       "      dtype=object)"
      ]
     },
     "execution_count": 27,
     "metadata": {},
     "output_type": "execute_result"
    },
    {
     "data": {
      "image/png": "[encoded data removed]",
      "text/plain": [
       "<Figure size 432x288 with 3 Axes>"
      ]
     },
     "metadata": {
      "needs_background": "light"
     },
     "output_type": "display_data"
    }
   ],
   "source": [
    "df_selected.plot( subplots=True)"
   ]
  },
  {
   "cell_type": "code",
   "execution_count": 25,
   "metadata": {
    "ExecuteTime": {
     "end_time": "2019-04-23T15:35:46.072389Z",
     "start_time": "2019-04-23T15:35:46.066308Z"
    }
   },
   "outputs": [
    {
     "data": {
      "text/plain": [
       "0        202,500.00\n",
       "1        270,000.00\n",
       "2         67,500.00\n",
       "3        135,000.00\n",
       "4        121,500.00\n",
       "5         99,000.00\n",
       "6        171,000.00\n",
       "7        360,000.00\n",
       "8        112,500.00\n",
       "9        135,000.00\n",
       "10       112,500.00\n",
       "11        38,419.15\n",
       "12        67,500.00\n",
       "13       225,000.00\n",
       "14       189,000.00\n",
       "15       157,500.00\n",
       "16       108,000.00\n",
       "17        81,000.00\n",
       "18       112,500.00\n",
       "19        90,000.00\n",
       "20       135,000.00\n",
       "21       202,500.00\n",
       "22       450,000.00\n",
       "23        83,250.00\n",
       "24       135,000.00\n",
       "25        90,000.00\n",
       "26       112,500.00\n",
       "27       112,500.00\n",
       "28       270,000.00\n",
       "29        90,000.00\n",
       "            ...    \n",
       "307481   225,000.00\n",
       "307482   225,000.00\n",
       "307483    99,000.00\n",
       "307484   540,000.00\n",
       "307485   270,000.00\n",
       "307486   292,500.00\n",
       "307487   117,000.00\n",
       "307488   157,500.00\n",
       "307489   225,000.00\n",
       "307490    81,000.00\n",
       "307491    90,000.00\n",
       "307492   585,000.00\n",
       "307493   135,000.00\n",
       "307494   270,000.00\n",
       "307495   180,000.00\n",
       "307496   360,000.00\n",
       "307497   180,000.00\n",
       "307498   198,000.00\n",
       "307499    81,000.00\n",
       "307500   261,000.00\n",
       "307501    81,000.00\n",
       "307502    94,500.00\n",
       "307503   112,500.00\n",
       "307504   153,000.00\n",
       "307505   112,500.00\n",
       "307506   157,500.00\n",
       "307507    72,000.00\n",
       "307508   153,000.00\n",
       "307509   171,000.00\n",
       "307510   157,500.00\n",
       "Name: AMT_INCOME_TOTAL, Length: 307511, dtype: float64"
      ]
     },
     "execution_count": 25,
     "metadata": {},
     "output_type": "execute_result"
    }
   ],
   "source": [
    "df_selected['AMT_INCOME_TOTAL']\n"
   ]
  },
  {
   "cell_type": "code",
   "execution_count": null,
   "metadata": {},
   "outputs": [],
   "source": []
  }
 ],
 "metadata": {
  "kernelspec": {
   "display_name": "Python 3",
   "language": "python",
   "name": "python3"
  },
  "language_info": {
   "codemirror_mode": {
    "name": "ipython",
    "version": 3
   },
   "file_extension": ".py",
   "mimetype": "text/x-python",
   "name": "python",
   "nbconvert_exporter": "python",
   "pygments_lexer": "ipython3",
   "version": "3.7.2"
  },
  "varInspector": {
   "cols": {
    "lenName": 16,
    "lenType": 16,
    "lenVar": 40
   },
   "kernels_config": {
    "python": {
     "delete_cmd_postfix": "",
     "delete_cmd_prefix": "del ",
     "library": "var_list.py",
     "varRefreshCmd": "print(var_dic_list())"
    },
    "r": {
     "delete_cmd_postfix": ") ",
     "delete_cmd_prefix": "rm(",
     "library": "var_list.r",
     "varRefreshCmd": "cat(var_dic_list()) "
    }
   },
   "types_to_exclude": [
    "module",
    "function",
    "builtin_function_or_method",
    "instance",
    "_Feature"
   ],
   "window_display": false
  }
 },
 "nbformat": 4,
 "nbformat_minor": 2
}
