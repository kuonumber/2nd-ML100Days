{
 "cells": [
  {
   "cell_type": "markdown",
   "metadata": {},
   "source": [
    "## 練習時間"
   ]
  },
  {
   "cell_type": "markdown",
   "metadata": {},
   "source": [
    "請觀看台大電機李宏毅教授的影片。李教授會用非常淺顯易懂的方式介紹甚麼是機器學習。\n"
   ]
  },
  {
   "cell_type": "markdown",
   "metadata": {},
   "source": [
    "[youtube](https://www.youtube.com/watch?v=CXgbekl66jc)"
   ]
  },
  {
   "cell_type": "markdown",
   "metadata": {},
   "source": [
    "## 請找出一個你認為機器學習可以發光發熱的領域並闡述原因? "
   ]
  },
  {
   "cell_type": "markdown",
   "metadata": {},
   "source": [
    "  * 基本上，機器學習最大的難處有幾個點，一是資料取得，二是落地使用。 現在幾乎所有資料都數位化，所以資料取得機會比以前高，但很多資料要發揮價值必須要透過資料的交叉應用才能最大化，這還是個很大的壁壘。 落地使用則是要將機器學習產品化，其實企業追求的不一定是最新技術而是組合應用或是至少過程優化。 要組合出一個嶄新的產品可能很難，但優化既有過程或產品我認為是比較可行的方向。總而言之，這波浪潮最大的作用，個人認為不一定是技術的翻新，而是讓那些原本不太嘗試新方法的企業，願意嘗試使用，多方嘗試總會有發光發熱的機會。"
   ]
  },
  {
   "cell_type": "code",
   "execution_count": null,
   "metadata": {},
   "outputs": [],
   "source": []
  }
 ],
 "metadata": {
  "kernelspec": {
   "display_name": "Python 3",
   "language": "python",
   "name": "python3"
  },
  "language_info": {
   "codemirror_mode": {
    "name": "ipython",
    "version": 3
   },
   "file_extension": ".py",
   "mimetype": "text/x-python",
   "name": "python",
   "nbconvert_exporter": "python",
   "pygments_lexer": "ipython3",
   "version": "3.7.5"
  }
 },
 "nbformat": 4,
 "nbformat_minor": 2
}
