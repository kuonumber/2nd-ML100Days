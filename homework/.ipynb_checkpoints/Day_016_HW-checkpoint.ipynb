{
 "cells": [
  {
   "cell_type": "markdown",
   "metadata": {},
   "source": [
    "## 練習時間\n",
    "將你的結果存成 csv, 上傳你的第一份 Kaggle 成績\n",
    "\n",
    "Hints: https://stackoverflow.com/questions/16923281/pandas-writing-dataframe-to-csv-file"
   ]
  },
  {
   "cell_type": "markdown",
   "metadata": {},
   "source": [
    "# [作業目標]\n",
    "- 檢視並重新執行腳本, 試著將執行結果存檔並提交到 Kaggle 上"
   ]
  },
  {
   "cell_type": "markdown",
   "metadata": {},
   "source": [
    "# [作業重點]\n",
    "- 執行後, 將所得結果, 存成可以提交的 csv 檔 (In[10]) (Hint : 使用 pandas.DataFreame.to_csv)"
   ]
  },
  {
   "cell_type": "code",
   "execution_count": 9,
   "metadata": {
    "collapsed": true
   },
   "outputs": [],
   "source": [
    "# 載入需要的套件\n",
    "import os\n",
    "import numpy as np \n",
    "import pandas as pd\n",
    "\n",
    "import matplotlib.pyplot as plt\n",
    "%matplotlib inline\n",
    "\n",
    "from sklearn.preprocessing import MinMaxScaler, Imputer\n"
   ]
  },
  {
   "cell_type": "markdown",
   "metadata": {},
   "source": [
    "### 仿造之前做過的處理"
   ]
  },
  {
   "cell_type": "code",
   "execution_count": 2,
   "metadata": {
    "collapsed": true
   },
   "outputs": [],
   "source": [
    "# 設定 data_path\n",
    "dir_data = '../Part01/'\n",
    "f_app_train = os.path.join(dir_data, 'application_train.csv')\n",
    "f_app_test = os.path.join(dir_data, 'application_test.csv')\n",
    "\n",
    "# 讀取檔案\n",
    "app_train = pd.read_csv(f_app_train)\n",
    "app_test = pd.read_csv(f_app_test)"
   ]
  },
  {
   "cell_type": "code",
   "execution_count": 3,
   "metadata": {
    "collapsed": true
   },
   "outputs": [],
   "source": [
    "# 種類 2 種以下的類別型欄位轉標籤編碼 (Label Encoding)\n",
    "from sklearn.preprocessing import LabelEncoder\n",
    "le = LabelEncoder()\n",
    "le_count = 0\n",
    "\n",
    "# 檢查每一個 column\n",
    "for col in app_train:\n",
    "    if app_train[col].dtype == 'object':\n",
    "        # 如果只有兩種值的類別型欄位\n",
    "        if len(list(app_train[col].unique())) <= 2:\n",
    "            # 就做 Label Encoder\n",
    "            le.fit(app_train[col])\n",
    "            app_train[col] = le.transform(app_train[col])\n",
    "            app_test[col] = le.transform(app_test[col])\n",
    "            \n",
    "            # 紀錄有多少個 columns 被標籤編碼過\n",
    "            le_count += 1\n",
    "            \n",
    "# 標籤編碼 (2種類別) 欄位轉 One Hot Encoding            \n",
    "app_train = pd.get_dummies(app_train, drop_first=True)\n",
    "app_test = pd.get_dummies(app_test, drop_first=True)"
   ]
  },
  {
   "cell_type": "code",
   "execution_count": 4,
   "metadata": {
    "collapsed": true
   },
   "outputs": [],
   "source": [
    "# 受雇日數為異常值的資料, 另外設一個欄位記錄, 並將異常的日數轉成空值 (np.nan)\n",
    "app_train['DAYS_EMPLOYED_ANOM'] = app_train[\"DAYS_EMPLOYED\"] == 365243\n",
    "app_train['DAYS_EMPLOYED'].replace({365243: np.nan}, inplace = True)\n",
    "app_test['DAYS_EMPLOYED_ANOM'] = app_test[\"DAYS_EMPLOYED\"] == 365243\n",
    "app_test[\"DAYS_EMPLOYED\"].replace({365243: np.nan}, inplace = True)\n",
    "\n",
    "# 出生日數 (DAYS_BIRTH) 取絕對值 \n",
    "app_train['DAYS_BIRTH'] = abs(app_train['DAYS_BIRTH'])\n",
    "app_test['DAYS_BIRTH'] = abs(app_test['DAYS_BIRTH'])"
   ]
  },
  {
   "cell_type": "markdown",
   "metadata": {},
   "source": [
    "### 做好前處理\n",
    "開始擬合模型之前，我們要確保 training & testing data 的欄位數量一致，原因是因為 One hot encoding 會製造多的欄位，有些類別出現在 training data 而沒有出現 testing data 中，我們就要把這些多餘的欄位去除"
   ]
  },
  {
   "cell_type": "code",
   "execution_count": 5,
   "metadata": {
    "collapsed": true
   },
   "outputs": [],
   "source": [
    "train_labels = app_train['TARGET']"
   ]
  },
  {
   "cell_type": "code",
   "execution_count": 6,
   "metadata": {},
   "outputs": [
    {
     "data": {
      "text/plain": [
       "0    1\n",
       "1    0\n",
       "2    0\n",
       "3    0\n",
       "4    0\n",
       "Name: TARGET, dtype: int64"
      ]
     },
     "execution_count": 6,
     "metadata": {},
     "output_type": "execute_result"
    }
   ],
   "source": [
    "train_labels.head()"
   ]
  },
  {
   "cell_type": "code",
   "execution_count": 178,
   "metadata": {
    "collapsed": true
   },
   "outputs": [],
   "source": [
    "# 調整欄位數, 移除出現在 training data 而沒有出現 testing data 中的欄位\n",
    "app_train, app_test = app_train.align(app_test, join = 'inner', axis = 1)"
   ]
  },
  {
   "cell_type": "code",
   "execution_count": 184,
   "metadata": {},
   "outputs": [],
   "source": [
    "# 特徵欄位清單\n",
    "train = app_train.copy()\n",
    "features = list(train.columns)\n",
    "\n",
    "# 複製 test 資料\n",
    "test = app_test.copy()"
   ]
  },
  {
   "cell_type": "code",
   "execution_count": 180,
   "metadata": {},
   "outputs": [
    {
     "data": {
      "text/plain": [
       "SK_ID_CURR                                  0.000000\n",
       "NAME_CONTRACT_TYPE                          0.000000\n",
       "FLAG_OWN_CAR                                0.000000\n",
       "FLAG_OWN_REALTY                             0.000000\n",
       "CNT_CHILDREN                                0.000000\n",
       "AMT_INCOME_TOTAL                            0.000000\n",
       "AMT_CREDIT                                  0.000000\n",
       "AMT_ANNUITY                                 0.000039\n",
       "AMT_GOODS_PRICE                             0.000904\n",
       "REGION_POPULATION_RELATIVE                  0.000000\n",
       "DAYS_BIRTH                                  0.000000\n",
       "DAYS_EMPLOYED                               0.180072\n",
       "DAYS_REGISTRATION                           0.000000\n",
       "DAYS_ID_PUBLISH                             0.000000\n",
       "OWN_CAR_AGE                                 0.659908\n",
       "FLAG_MOBIL                                  0.000000\n",
       "FLAG_EMP_PHONE                              0.000000\n",
       "FLAG_WORK_PHONE                             0.000000\n",
       "FLAG_CONT_MOBILE                            0.000000\n",
       "FLAG_PHONE                                  0.000000\n",
       "FLAG_EMAIL                                  0.000000\n",
       "CNT_FAM_MEMBERS                             0.000007\n",
       "REGION_RATING_CLIENT                        0.000000\n",
       "REGION_RATING_CLIENT_W_CITY                 0.000000\n",
       "HOUR_APPR_PROCESS_START                     0.000000\n",
       "REG_REGION_NOT_LIVE_REGION                  0.000000\n",
       "REG_REGION_NOT_WORK_REGION                  0.000000\n",
       "LIVE_REGION_NOT_WORK_REGION                 0.000000\n",
       "REG_CITY_NOT_LIVE_CITY                      0.000000\n",
       "REG_CITY_NOT_WORK_CITY                      0.000000\n",
       "                                              ...   \n",
       "ORGANIZATION_TYPE_Security Ministries       0.000000\n",
       "ORGANIZATION_TYPE_Self-employed             0.000000\n",
       "ORGANIZATION_TYPE_Services                  0.000000\n",
       "ORGANIZATION_TYPE_Telecom                   0.000000\n",
       "ORGANIZATION_TYPE_Trade: type 1             0.000000\n",
       "ORGANIZATION_TYPE_Trade: type 2             0.000000\n",
       "ORGANIZATION_TYPE_Trade: type 3             0.000000\n",
       "ORGANIZATION_TYPE_Trade: type 4             0.000000\n",
       "ORGANIZATION_TYPE_Trade: type 5             0.000000\n",
       "ORGANIZATION_TYPE_Trade: type 6             0.000000\n",
       "ORGANIZATION_TYPE_Trade: type 7             0.000000\n",
       "ORGANIZATION_TYPE_Transport: type 1         0.000000\n",
       "ORGANIZATION_TYPE_Transport: type 2         0.000000\n",
       "ORGANIZATION_TYPE_Transport: type 3         0.000000\n",
       "ORGANIZATION_TYPE_Transport: type 4         0.000000\n",
       "ORGANIZATION_TYPE_University                0.000000\n",
       "ORGANIZATION_TYPE_XNA                       0.000000\n",
       "FONDKAPREMONT_MODE_org spec account         0.000000\n",
       "FONDKAPREMONT_MODE_reg oper account         0.000000\n",
       "FONDKAPREMONT_MODE_reg oper spec account    0.000000\n",
       "HOUSETYPE_MODE_specific housing             0.000000\n",
       "HOUSETYPE_MODE_terraced house               0.000000\n",
       "WALLSMATERIAL_MODE_Mixed                    0.000000\n",
       "WALLSMATERIAL_MODE_Monolithic               0.000000\n",
       "WALLSMATERIAL_MODE_Others                   0.000000\n",
       "WALLSMATERIAL_MODE_Panel                    0.000000\n",
       "WALLSMATERIAL_MODE_Stone, brick             0.000000\n",
       "WALLSMATERIAL_MODE_Wooden                   0.000000\n",
       "EMERGENCYSTATE_MODE_Yes                     0.000000\n",
       "DAYS_EMPLOYED_ANOM                          0.000000\n",
       "Length: 227, dtype: float64"
      ]
     },
     "execution_count": 180,
     "metadata": {},
     "output_type": "execute_result"
    }
   ],
   "source": [
    "train.isna().mean()"
   ]
  },
  {
   "cell_type": "code",
   "execution_count": 161,
   "metadata": {},
   "outputs": [
    {
     "data": {
      "text/plain": [
       "8        NaN\n",
       "11       NaN\n",
       "23       NaN\n",
       "38       NaN\n",
       "43       NaN\n",
       "46       NaN\n",
       "54       NaN\n",
       "56       NaN\n",
       "62       NaN\n",
       "79       NaN\n",
       "81       NaN\n",
       "84       NaN\n",
       "99       NaN\n",
       "105      NaN\n",
       "106      NaN\n",
       "108      NaN\n",
       "117      NaN\n",
       "118      NaN\n",
       "125      NaN\n",
       "140      NaN\n",
       "143      NaN\n",
       "156      NaN\n",
       "157      NaN\n",
       "158      NaN\n",
       "173      NaN\n",
       "174      NaN\n",
       "175      NaN\n",
       "185      NaN\n",
       "213      NaN\n",
       "220      NaN\n",
       "          ..\n",
       "307369   NaN\n",
       "307370   NaN\n",
       "307386   NaN\n",
       "307390   NaN\n",
       "307392   NaN\n",
       "307393   NaN\n",
       "307398   NaN\n",
       "307401   NaN\n",
       "307402   NaN\n",
       "307404   NaN\n",
       "307405   NaN\n",
       "307406   NaN\n",
       "307417   NaN\n",
       "307420   NaN\n",
       "307422   NaN\n",
       "307424   NaN\n",
       "307426   NaN\n",
       "307430   NaN\n",
       "307433   NaN\n",
       "307434   NaN\n",
       "307441   NaN\n",
       "307443   NaN\n",
       "307445   NaN\n",
       "307450   NaN\n",
       "307463   NaN\n",
       "307469   NaN\n",
       "307483   NaN\n",
       "307487   NaN\n",
       "307505   NaN\n",
       "307507   NaN\n",
       "Name: DAYS_EMPLOYED, Length: 55374, dtype: float64"
      ]
     },
     "execution_count": 161,
     "metadata": {},
     "output_type": "execute_result"
    }
   ],
   "source": [
    "train['DAYS_EMPLOYED'].iloc[np.where(train['DAYS_EMPLOYED'].isna())]"
   ]
  },
  {
   "cell_type": "code",
   "execution_count": 162,
   "metadata": {},
   "outputs": [
    {
     "data": {
      "text/plain": [
       "count    307511.000000\n",
       "mean      -2385.250328\n",
       "std        2235.242887\n",
       "min      -17912.000000\n",
       "25%       -3168.000000\n",
       "50%       -1714.000000\n",
       "75%        -838.000000\n",
       "max           0.000000\n",
       "Name: DAYS_EMPLOYED, dtype: float64"
      ]
     },
     "execution_count": 162,
     "metadata": {},
     "output_type": "execute_result"
    }
   ],
   "source": [
    "train.DAYS_EMPLOYED.interpolate().describe()"
   ]
  },
  {
   "cell_type": "code",
   "execution_count": 163,
   "metadata": {},
   "outputs": [
    {
     "data": {
      "text/plain": [
       "count    307511.000000\n",
       "mean      -2384.169325\n",
       "std        2117.381973\n",
       "min      -17912.000000\n",
       "25%       -2760.000000\n",
       "50%       -2219.000000\n",
       "75%        -933.000000\n",
       "max           0.000000\n",
       "Name: DAYS_EMPLOYED, dtype: float64"
      ]
     },
     "execution_count": 163,
     "metadata": {},
     "output_type": "execute_result"
    }
   ],
   "source": [
    "train.DAYS_EMPLOYED.fillna(train.DAYS_EMPLOYED.mean()).describe()"
   ]
  },
  {
   "cell_type": "code",
   "execution_count": 185,
   "metadata": {},
   "outputs": [],
   "source": [
    "train = train.interpolate(method = 'linear')\n",
    "test = test.interpolate()"
   ]
  },
  {
   "cell_type": "code",
   "execution_count": 186,
   "metadata": {},
   "outputs": [],
   "source": [
    "train = train.fillna(train.median())\n",
    "test = test.fillna(test.median())\n",
    "# .fillna(train.OWN_CAR_AGE.mean())"
   ]
  },
  {
   "cell_type": "code",
   "execution_count": null,
   "metadata": {},
   "outputs": [],
   "source": []
  },
  {
   "cell_type": "code",
   "execution_count": 187,
   "metadata": {},
   "outputs": [
    {
     "data": {
      "text/plain": [
       "Series([], dtype: float64)"
      ]
     },
     "execution_count": 187,
     "metadata": {},
     "output_type": "execute_result"
    }
   ],
   "source": [
    "train.isna().mean()[train.isna().mean()>0]"
   ]
  },
  {
   "cell_type": "code",
   "execution_count": 188,
   "metadata": {},
   "outputs": [
    {
     "data": {
      "text/plain": [
       "Series([], dtype: float64)"
      ]
     },
     "execution_count": 188,
     "metadata": {},
     "output_type": "execute_result"
    }
   ],
   "source": [
    "test.isna().mean()[test.isna().mean()>0]"
   ]
  },
  {
   "cell_type": "code",
   "execution_count": 136,
   "metadata": {},
   "outputs": [],
   "source": [
    "# train['DAYS_EMPLOYED'].values.reshape(1,-1)"
   ]
  },
  {
   "cell_type": "code",
   "execution_count": 149,
   "metadata": {},
   "outputs": [
    {
     "name": "stderr",
     "output_type": "stream",
     "text": [
      "/home/kuo/miniconda3/envs/venv/lib/python3.6/site-packages/sklearn/utils/deprecation.py:58: DeprecationWarning: Class Imputer is deprecated; Imputer was deprecated in version 0.20 and will be removed in 0.22. Import impute.SimpleImputer from sklearn instead.\n",
      "  warnings.warn(msg, category=DeprecationWarning)\n"
     ]
    }
   ],
   "source": [
    "imputer = Imputer(strategy = 'median')\n",
    "\n",
    "# 填補器載入個欄中位數\n",
    "imputer.fit(train)\n",
    "\n",
    "# 將中位數回填 train, test 資料中的空缺值\n",
    "train = imputer.transform(train)\n",
    "test = imputer.transform(app_test)"
   ]
  },
  {
   "cell_type": "code",
   "execution_count": 189,
   "metadata": {},
   "outputs": [
    {
     "name": "stderr",
     "output_type": "stream",
     "text": [
      "/home/kuo/miniconda3/envs/venv/lib/python3.6/site-packages/sklearn/preprocessing/data.py:323: DataConversionWarning: Data with input dtype bool, uint8, int64, float64 were all converted to float64 by MinMaxScaler.\n",
      "  return self.partial_fit(X, y)\n"
     ]
    },
    {
     "name": "stdout",
     "output_type": "stream",
     "text": [
      "Training data shape:  (307511, 227)\n",
      "Testing data shape:  (48744, 227)\n"
     ]
    }
   ],
   "source": [
    "# 縮放器 : 設定特徵縮放到 0~1 區間\n",
    "scaler = MinMaxScaler(feature_range = (0, 1))\n",
    "# 縮放器載入 train 的上下限, 對 train, test 進行縮放轉換\n",
    "scaler.fit(train)\n",
    "train = scaler.transform(train)\n",
    "test = scaler.transform(test)\n",
    "\n",
    "print('Training data shape: ', train.shape)\n",
    "print('Testing data shape: ', test.shape)"
   ]
  },
  {
   "cell_type": "markdown",
   "metadata": {},
   "source": [
    "### Fit the model"
   ]
  },
  {
   "cell_type": "code",
   "execution_count": 190,
   "metadata": {},
   "outputs": [],
   "source": [
    "from sklearn.linear_model import LogisticRegression"
   ]
  },
  {
   "cell_type": "code",
   "execution_count": 191,
   "metadata": {},
   "outputs": [
    {
     "name": "stderr",
     "output_type": "stream",
     "text": [
      "/home/kuo/miniconda3/envs/venv/lib/python3.6/site-packages/sklearn/linear_model/logistic.py:433: FutureWarning: Default solver will be changed to 'lbfgs' in 0.22. Specify a solver to silence this warning.\n",
      "  FutureWarning)\n"
     ]
    },
    {
     "data": {
      "text/plain": [
       "LogisticRegression(C=0.0001, class_weight=None, dual=False,\n",
       "          fit_intercept=True, intercept_scaling=1, max_iter=100,\n",
       "          multi_class='warn', n_jobs=None, penalty='l2', random_state=None,\n",
       "          solver='warn', tol=0.0001, verbose=0, warm_start=False)"
      ]
     },
     "execution_count": 191,
     "metadata": {},
     "output_type": "execute_result"
    }
   ],
   "source": [
    "# 設定模型與模型參數\n",
    "log_reg = LogisticRegression(C = 0.0001)\n",
    "\n",
    "# 使用 Train 資料訓練模型\n",
    "log_reg.fit(train, train_labels)"
   ]
  },
  {
   "cell_type": "markdown",
   "metadata": {},
   "source": [
    "模型 fit 好以後，就可以用來預測 testing data 中的客戶違約遲繳貸款的機率咯! (記得要用 predict_proba 才會輸出機率)"
   ]
  },
  {
   "cell_type": "code",
   "execution_count": 192,
   "metadata": {
    "collapsed": true
   },
   "outputs": [],
   "source": [
    "# 用模型預測結果\n",
    "# 請注意羅吉斯迴歸是分類預測 (會輸出 0 的機率, 與 1 的機率), 而我們只需要留下 1 的機率這排\n",
    "log_reg_pred = log_reg.predict_proba(test)[:, 1]"
   ]
  },
  {
   "cell_type": "markdown",
   "metadata": {},
   "source": [
    "### 儲存預測結果"
   ]
  },
  {
   "cell_type": "code",
   "execution_count": 193,
   "metadata": {},
   "outputs": [
    {
     "name": "stderr",
     "output_type": "stream",
     "text": [
      "/home/kuo/miniconda3/envs/venv/lib/python3.6/site-packages/ipykernel_launcher.py:3: SettingWithCopyWarning: \n",
      "A value is trying to be set on a copy of a slice from a DataFrame.\n",
      "Try using .loc[row_indexer,col_indexer] = value instead\n",
      "\n",
      "See the caveats in the documentation: http://pandas.pydata.org/pandas-docs/stable/indexing.html#indexing-view-versus-copy\n",
      "  This is separate from the ipykernel package so we can avoid doing imports until\n"
     ]
    },
    {
     "data": {
      "text/html": [
       "<div>\n",
       "<style scoped>\n",
       "    .dataframe tbody tr th:only-of-type {\n",
       "        vertical-align: middle;\n",
       "    }\n",
       "\n",
       "    .dataframe tbody tr th {\n",
       "        vertical-align: top;\n",
       "    }\n",
       "\n",
       "    .dataframe thead th {\n",
       "        text-align: right;\n",
       "    }\n",
       "</style>\n",
       "<table border=\"1\" class=\"dataframe\">\n",
       "  <thead>\n",
       "    <tr style=\"text-align: right;\">\n",
       "      <th></th>\n",
       "      <th>SK_ID_CURR</th>\n",
       "      <th>TARGET</th>\n",
       "    </tr>\n",
       "  </thead>\n",
       "  <tbody>\n",
       "    <tr>\n",
       "      <th>0</th>\n",
       "      <td>100001</td>\n",
       "      <td>0.071390</td>\n",
       "    </tr>\n",
       "    <tr>\n",
       "      <th>1</th>\n",
       "      <td>100005</td>\n",
       "      <td>0.113140</td>\n",
       "    </tr>\n",
       "    <tr>\n",
       "      <th>2</th>\n",
       "      <td>100013</td>\n",
       "      <td>0.070984</td>\n",
       "    </tr>\n",
       "    <tr>\n",
       "      <th>3</th>\n",
       "      <td>100028</td>\n",
       "      <td>0.065730</td>\n",
       "    </tr>\n",
       "    <tr>\n",
       "      <th>4</th>\n",
       "      <td>100038</td>\n",
       "      <td>0.111885</td>\n",
       "    </tr>\n",
       "  </tbody>\n",
       "</table>\n",
       "</div>"
      ],
      "text/plain": [
       "   SK_ID_CURR    TARGET\n",
       "0      100001  0.071390\n",
       "1      100005  0.113140\n",
       "2      100013  0.070984\n",
       "3      100028  0.065730\n",
       "4      100038  0.111885"
      ]
     },
     "execution_count": 193,
     "metadata": {},
     "output_type": "execute_result"
    }
   ],
   "source": [
    "# 計算提交結果\n",
    "submit = app_test[['SK_ID_CURR']]\n",
    "submit['TARGET'] = log_reg_pred\n",
    "\n",
    "submit.head()"
   ]
  },
  {
   "cell_type": "code",
   "execution_count": 194,
   "metadata": {
    "collapsed": true
   },
   "outputs": [],
   "source": [
    "submit.to_csv('/tmp/Hao_Chieh_Kuo.csv',index=False)"
   ]
  },
  {
   "cell_type": "code",
   "execution_count": null,
   "metadata": {},
   "outputs": [],
   "source": []
  }
 ],
 "metadata": {
  "kernelspec": {
   "display_name": "Python 3",
   "language": "python",
   "name": "python3"
  },
  "language_info": {
   "codemirror_mode": {
    "name": "ipython",
    "version": 3
   },
   "file_extension": ".py",
   "mimetype": "text/x-python",
   "name": "python",
   "nbconvert_exporter": "python",
   "pygments_lexer": "ipython3",
   "version": "3.6.8"
  }
 },
 "nbformat": 4,
 "nbformat_minor": 2
}
