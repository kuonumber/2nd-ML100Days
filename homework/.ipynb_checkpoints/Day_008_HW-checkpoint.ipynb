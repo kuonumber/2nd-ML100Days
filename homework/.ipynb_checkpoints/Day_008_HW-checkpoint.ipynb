{
 "cells": [
  {
   "cell_type": "markdown",
   "metadata": {},
   "source": [
    "# 常用的 DataFrame 操作\n",
    "* merge / transform\n",
    "* subset\n",
    "* groupby"
   ]
  },
  {
   "cell_type": "code",
   "execution_count": 1,
   "metadata": {},
   "outputs": [],
   "source": [
    "# Import 需要的套件\n",
    "import os\n",
    "import numpy as np\n",
    "import pandas as pd\n",
    "import matplotlib.pyplot as plt\n",
    "\n",
    "%matplotlib inline"
   ]
  },
  {
   "cell_type": "code",
   "execution_count": 2,
   "metadata": {},
   "outputs": [],
   "source": [
    "# 設定 data_path\n",
    "dir_data = '../data/Part01/'"
   ]
  },
  {
   "cell_type": "code",
   "execution_count": 3,
   "metadata": {},
   "outputs": [
    {
     "name": "stdout",
     "output_type": "stream",
     "text": [
      "Path of read in data: ../data/Part01/application_train.csv\n"
     ]
    }
   ],
   "source": [
    "file_path = os.path.join(dir_data, 'application_train.csv')\n",
    "print('Path of read in data: %s' % (file_path))"
   ]
  },
  {
   "cell_type": "code",
   "execution_count": 4,
   "metadata": {},
   "outputs": [],
   "source": [
    "df = pd.read_csv(file_path)"
   ]
  },
  {
   "cell_type": "code",
   "execution_count": 5,
   "metadata": {},
   "outputs": [],
   "source": [
    "# [0]:'0 個小孩'\n",
    "d = ({ range(1,3):'1 - 2 個小孩',\n",
    "                    range(3, 6):'3 - 5 個小孩',\n",
    "                      range(5, 20):'超過 5 個小孩'})\n",
    "\n",
    "df['new_cat'] = df['CNT_CHILDREN'].apply(lambda x: next((v for k, v in d.items() if x in k), '0 個小孩'))\n"
   ]
  },
  {
   "cell_type": "code",
   "execution_count": 6,
   "metadata": {},
   "outputs": [],
   "source": [
    "criteria = [df['CNT_CHILDREN'].between(0, 0.9), df['CNT_CHILDREN'].between(1, 2), df['CNT_CHILDREN'].between(3, 5), df['CNT_CHILDREN'].between(6, 20)]\n",
    "value = ['0 c', '1-2 c', '3-5 c', '6 more c']\n",
    "c = np.select(criteria, value, 0)"
   ]
  },
  {
   "cell_type": "code",
   "execution_count": 9,
   "metadata": {},
   "outputs": [],
   "source": [
    "CNT_CHILDREN_GROUP = df.groupby('new_cat')"
   ]
  },
  {
   "cell_type": "code",
   "execution_count": 8,
   "metadata": {},
   "outputs": [
    {
     "ename": "ValueError",
     "evalue": "bins must increase monotonically.",
     "output_type": "error",
     "traceback": [
      "\u001b[0;31m---------------------------------------------------------------------------\u001b[0m",
      "\u001b[0;31mValueError\u001b[0m                                Traceback (most recent call last)",
      "\u001b[0;32m<ipython-input-8-23ee763ca309>\u001b[0m in \u001b[0;36m<module>\u001b[0;34m\u001b[0m\n\u001b[1;32m      5\u001b[0m \u001b[0mcut_rule\u001b[0m \u001b[0;34m=\u001b[0m \u001b[0;34m[\u001b[0m\u001b[0mnp\u001b[0m\u001b[0;34m.\u001b[0m\u001b[0minf\u001b[0m\u001b[0;34m,\u001b[0m \u001b[0;36m1\u001b[0m\u001b[0;34m,\u001b[0m \u001b[0;36m2\u001b[0m\u001b[0;34m,\u001b[0m \u001b[0;36m3\u001b[0m\u001b[0;34m,\u001b[0m \u001b[0;36m25\u001b[0m\u001b[0;34m,\u001b[0m \u001b[0;36m50\u001b[0m\u001b[0;34m,\u001b[0m \u001b[0;36m100\u001b[0m\u001b[0;34m]\u001b[0m\u001b[0;34m\u001b[0m\u001b[0;34m\u001b[0m\u001b[0m\n\u001b[1;32m      6\u001b[0m \u001b[0;34m\u001b[0m\u001b[0m\n\u001b[0;32m----> 7\u001b[0;31m \u001b[0mdf\u001b[0m\u001b[0;34m[\u001b[0m\u001b[0;34m'CNT_CHILDREN_GROUP'\u001b[0m\u001b[0;34m]\u001b[0m \u001b[0;34m=\u001b[0m \u001b[0mpd\u001b[0m\u001b[0;34m.\u001b[0m\u001b[0mcut\u001b[0m\u001b[0;34m(\u001b[0m\u001b[0mdf\u001b[0m\u001b[0;34m[\u001b[0m\u001b[0;34m'CNT_CHILDREN'\u001b[0m\u001b[0;34m]\u001b[0m\u001b[0;34m,\u001b[0m \u001b[0mcut_rule\u001b[0m\u001b[0;34m,\u001b[0m \u001b[0minclude_lowest\u001b[0m\u001b[0;34m=\u001b[0m\u001b[0;32mTrue\u001b[0m\u001b[0;34m)\u001b[0m\u001b[0;34m\u001b[0m\u001b[0;34m\u001b[0m\u001b[0m\n\u001b[0m\u001b[1;32m      8\u001b[0m \u001b[0mdf\u001b[0m\u001b[0;34m[\u001b[0m\u001b[0;34m'CNT_CHILDREN_GROUP'\u001b[0m\u001b[0;34m]\u001b[0m\u001b[0;34m.\u001b[0m\u001b[0mvalue_counts\u001b[0m\u001b[0;34m(\u001b[0m\u001b[0;34m)\u001b[0m\u001b[0;34m\u001b[0m\u001b[0;34m\u001b[0m\u001b[0m\n",
      "\u001b[0;32m~/anaconda3/envs/venv/lib/python3.7/site-packages/pandas/core/reshape/tile.py\u001b[0m in \u001b[0;36mcut\u001b[0;34m(x, bins, right, labels, retbins, precision, include_lowest, duplicates)\u001b[0m\n\u001b[1;32m    226\u001b[0m         \u001b[0mbins\u001b[0m \u001b[0;34m=\u001b[0m \u001b[0m_convert_bin_to_numeric_type\u001b[0m\u001b[0;34m(\u001b[0m\u001b[0mbins\u001b[0m\u001b[0;34m,\u001b[0m \u001b[0mdtype\u001b[0m\u001b[0;34m)\u001b[0m\u001b[0;34m\u001b[0m\u001b[0;34m\u001b[0m\u001b[0m\n\u001b[1;32m    227\u001b[0m         \u001b[0;32mif\u001b[0m \u001b[0;34m(\u001b[0m\u001b[0mnp\u001b[0m\u001b[0;34m.\u001b[0m\u001b[0mdiff\u001b[0m\u001b[0;34m(\u001b[0m\u001b[0mbins\u001b[0m\u001b[0;34m)\u001b[0m \u001b[0;34m<\u001b[0m \u001b[0;36m0\u001b[0m\u001b[0;34m)\u001b[0m\u001b[0;34m.\u001b[0m\u001b[0many\u001b[0m\u001b[0;34m(\u001b[0m\u001b[0;34m)\u001b[0m\u001b[0;34m:\u001b[0m\u001b[0;34m\u001b[0m\u001b[0;34m\u001b[0m\u001b[0m\n\u001b[0;32m--> 228\u001b[0;31m             \u001b[0;32mraise\u001b[0m \u001b[0mValueError\u001b[0m\u001b[0;34m(\u001b[0m\u001b[0;34m'bins must increase monotonically.'\u001b[0m\u001b[0;34m)\u001b[0m\u001b[0;34m\u001b[0m\u001b[0;34m\u001b[0m\u001b[0m\n\u001b[0m\u001b[1;32m    229\u001b[0m \u001b[0;34m\u001b[0m\u001b[0m\n\u001b[1;32m    230\u001b[0m     fac, bins = _bins_to_cuts(x, bins, right=right, labels=labels,\n",
      "\u001b[0;31mValueError\u001b[0m: bins must increase monotonically."
     ]
    }
   ],
   "source": [
    "#1\n",
    "\"\"\"\n",
    "Your code here\n",
    "\"\"\"\n",
    "cut_rule = [np.inf, 1, 2, 3, 25, 50, 100]\n",
    "\n",
    "df['CNT_CHILDREN_GROUP'] = pd.cut(df['CNT_CHILDREN'], cut_rule, include_lowest=True)\n",
    "df['CNT_CHILDREN_GROUP'].value_counts()"
   ]
  },
  {
   "cell_type": "markdown",
   "metadata": {},
   "source": [
    "## 作業\n",
    "1. 請將 app_train 中的 CNT_CHILDREN 依照下列規則分為四組，並將其結果在原本的 dataframe 命名為 CNT_CHILDREN_GROUP\n",
    "    * 0 個小孩\n",
    "    * 有 1 - 2 個小孩\n",
    "    * 有 3 - 5 個小孩\n",
    "    * 有超過 5 個小孩\n",
    "\n",
    "2. 請根據 CNT_CHILDREN_GROUP 以及 TARGET，列出各組的平均 AMT_INCOME_TOTAL，並繪製 baxplot\n",
    "3. 請根據 CNT_CHILDREN_GROUP 以及 TARGET，對 AMT_INCOME_TOTAL 計算 [Z 轉換](https://en.wikipedia.org/wiki/Standard_score) 後的分數"
   ]
  },
  {
   "cell_type": "code",
   "execution_count": null,
   "metadata": {},
   "outputs": [],
   "source": [
    "#2-1\n",
    "\"\"\"\n",
    "Your code here\n",
    "\"\"\"\n",
    "grp = \n",
    "\n",
    "grouped_df = app_train.groupby(grp)['AMT_INCOME_TOTAL']\n",
    "grouped_df.mean()"
   ]
  },
  {
   "cell_type": "code",
   "execution_count": 26,
   "metadata": {},
   "outputs": [
    {
     "data": {
      "text/plain": [
       "<matplotlib.axes._subplots.AxesSubplot at 0x11fc966a0>"
      ]
     },
     "execution_count": 26,
     "metadata": {},
     "output_type": "execute_result"
    },
    {
     "data": {
      "image/png": "[encoded data removed]",
      "text/plain": [
       "<Figure size 432x288 with 1 Axes>"
      ]
     },
     "metadata": {
      "needs_background": "light"
     },
     "output_type": "display_data"
    }
   ],
   "source": [
    "CNT_CHILDREN_GROUP[['AMT_INCOME_TOTAL','TARGET']].mean().plot(kind='box', logy=True)"
   ]
  },
  {
   "cell_type": "code",
   "execution_count": 95,
   "metadata": {},
   "outputs": [
    {
     "data": {
      "text/plain": [
       "0 個小孩             AxesSubplot(0.1,0.559091;0.363636x0.340909)\n",
       "1 - 2 個小孩    AxesSubplot(0.536364,0.559091;0.363636x0.340909)\n",
       "3 - 5 個小孩             AxesSubplot(0.1,0.15;0.363636x0.340909)\n",
       "超過 5 個小孩         AxesSubplot(0.536364,0.15;0.363636x0.340909)\n",
       "dtype: object"
      ]
     },
     "execution_count": 95,
     "metadata": {},
     "output_type": "execute_result"
    },
    {
     "data": {
      "image/png": "[encoded data removed]",
      "text/plain": [
       "<Figure size 864x864 with 4 Axes>"
      ]
     },
     "metadata": {
      "needs_background": "light"
     },
     "output_type": "display_data"
    }
   ],
   "source": [
    "CNT_CHILDREN_GROUP.boxplot(column=['AMT_INCOME_TOTAL', 'TARGET'], figsize=(12,12))"
   ]
  },
  {
   "cell_type": "code",
   "execution_count": null,
   "metadata": {},
   "outputs": [],
   "source": [
    "#3\n",
    "\"\"\"\n",
    "Your code here\n",
    "\"\"\"\n",
    "app_train['AMT_INCOME_TOTAL_Z_BY_CHILDREN_GRP-TARGET'] = grouped_df.apply(lambda x: )\n",
    "\n",
    "app_train[['AMT_INCOME_TOTAL','AMT_INCOME_TOTAL_Z_BY_CHILDREN_GRP-TARGET']].head()"
   ]
  },
  {
   "cell_type": "code",
   "execution_count": 76,
   "metadata": {},
   "outputs": [
    {
     "data": {
      "text/plain": [
       "new_cat         \n",
       "0 個小孩     0         0.345856\n",
       "          1         0.990553\n",
       "          2        -0.943538\n",
       "          3        -0.298841\n",
       "          4        -0.427780\n",
       "          5        -0.642679\n",
       "          7         1.850149\n",
       "          8        -0.513740\n",
       "          9        -0.298841\n",
       "          11       -1.221291\n",
       "          12       -0.943538\n",
       "          14        0.216917\n",
       "          15       -0.083942\n",
       "          16       -0.556719\n",
       "          18       -0.513740\n",
       "          20       -0.298841\n",
       "          23       -0.793108\n",
       "          25       -0.728639\n",
       "          26       -0.513740\n",
       "          28        0.990553\n",
       "          29       -0.728639\n",
       "          30        1.205452\n",
       "          31       -0.513740\n",
       "          32       -0.728639\n",
       "          34       -0.298841\n",
       "          35       -0.513740\n",
       "          37       -0.427780\n",
       "          38       -0.642679\n",
       "          39        0.130957\n",
       "          40        0.345856\n",
       "                      ...   \n",
       "超過 5 個小孩  76087    -0.177378\n",
       "          78972    -1.104749\n",
       "          80948     2.604735\n",
       "          116428   -0.424677\n",
       "          132585   -1.104749\n",
       "          140914   -0.486502\n",
       "          154317   -0.610151\n",
       "          155369   -0.486502\n",
       "          160821    0.688168\n",
       "          162650   -0.177378\n",
       "          171125    1.059117\n",
       "          173205    0.131746\n",
       "          176011    1.059117\n",
       "          182163   -0.177378\n",
       "          182189    0.440869\n",
       "          183878   -1.413873\n",
       "          186820   -1.104749\n",
       "          187661    0.749993\n",
       "          188264   -0.486502\n",
       "          190547    0.749993\n",
       "          220134    0.131746\n",
       "          221570    0.966380\n",
       "          233611   -0.610151\n",
       "          245243   -1.413873\n",
       "          265784   -0.486502\n",
       "          267998   -1.290223\n",
       "          273679   -0.795626\n",
       "          276768    1.677364\n",
       "          284315   -0.795626\n",
       "          305112   -0.486502\n",
       "Name: AMT_INCOME_TOTAL, Length: 307511, dtype: float64"
      ]
     },
     "execution_count": 76,
     "metadata": {},
     "output_type": "execute_result"
    }
   ],
   "source": [
    "# (CNT_CHILDREN_GROUP['AMT_INCOME_TOTAL'] - CNT_CHILDREN_GROUP['AMT_INCOME_TOTAL'].mean())/\n",
    "CNT_CHILDREN_GROUP.apply(lambda x: (x['AMT_INCOME_TOTAL'] - x['AMT_INCOME_TOTAL'].mean())/x['AMT_INCOME_TOTAL'].std())"
   ]
  },
  {
   "cell_type": "code",
   "execution_count": 45,
   "metadata": {},
   "outputs": [
    {
     "data": {
      "text/plain": [
       "0         3.581377e+10\n",
       "1         3.581377e+10\n",
       "2         3.581377e+10\n",
       "3         3.581377e+10\n",
       "4         3.581377e+10\n",
       "5         3.581377e+10\n",
       "6         1.535280e+10\n",
       "7         3.581377e+10\n",
       "8         3.581377e+10\n",
       "9         3.581377e+10\n",
       "10        1.535280e+10\n",
       "11        3.581377e+10\n",
       "12        3.581377e+10\n",
       "13        1.535280e+10\n",
       "14        3.581377e+10\n",
       "15        3.581377e+10\n",
       "16        3.581377e+10\n",
       "17        1.535280e+10\n",
       "18        3.581377e+10\n",
       "19        1.535280e+10\n",
       "20        3.581377e+10\n",
       "21        1.535280e+10\n",
       "22        1.535280e+10\n",
       "23        3.581377e+10\n",
       "24        1.535280e+10\n",
       "25        3.581377e+10\n",
       "26        3.581377e+10\n",
       "27        1.535280e+10\n",
       "28        3.581377e+10\n",
       "29        3.581377e+10\n",
       "              ...     \n",
       "307481    3.581377e+10\n",
       "307482    3.581377e+10\n",
       "307483    3.581377e+10\n",
       "307484    3.581377e+10\n",
       "307485    1.535280e+10\n",
       "307486    1.535280e+10\n",
       "307487    3.581377e+10\n",
       "307488    3.581377e+10\n",
       "307489    3.581377e+10\n",
       "307490    3.581377e+10\n",
       "307491    1.535280e+10\n",
       "307492    3.581377e+10\n",
       "307493    3.581377e+10\n",
       "307494    1.535280e+10\n",
       "307495    3.581377e+10\n",
       "307496    3.581377e+10\n",
       "307497    3.581377e+10\n",
       "307498    3.581377e+10\n",
       "307499    3.581377e+10\n",
       "307500    3.581377e+10\n",
       "307501    7.344393e+08\n",
       "307502    1.535280e+10\n",
       "307503    3.581377e+10\n",
       "307504    3.581377e+10\n",
       "307505    3.581377e+10\n",
       "307506    3.581377e+10\n",
       "307507    3.581377e+10\n",
       "307508    3.581377e+10\n",
       "307509    3.581377e+10\n",
       "307510    3.581377e+10\n",
       "Name: AMT_INCOME_TOTAL, Length: 307511, dtype: float64"
      ]
     },
     "execution_count": 45,
     "metadata": {},
     "output_type": "execute_result"
    }
   ],
   "source": [
    "# CNT_CHILDREN_GROUP['AMT_INCOME_TOTAL'].transform('sum')\n",
    "# -CNT_CHILDREN_GROUP['AMT_INCOME_TOTAL'].mean()"
   ]
  },
  {
   "cell_type": "code",
   "execution_count": 56,
   "metadata": {},
   "outputs": [],
   "source": [
    "import scipy.stats as ss"
   ]
  },
  {
   "cell_type": "code",
   "execution_count": 59,
   "metadata": {},
   "outputs": [],
   "source": [
    "S = CNT_CHILDREN_GROUP['AMT_INCOME_TOTAL'].mean()"
   ]
  },
  {
   "cell_type": "code",
   "execution_count": 91,
   "metadata": {},
   "outputs": [
    {
     "data": {
      "text/plain": [
       "new_cat\n",
       "0 個小孩        0.052500\n",
       "1 - 2 個小孩    0.733051\n",
       "3 - 5 個小孩    0.644369\n",
       "超過 5 個小孩    -1.429919\n",
       "Name: AMT_INCOME_TOTAL, dtype: float64"
      ]
     },
     "execution_count": 91,
     "metadata": {},
     "output_type": "execute_result"
    }
   ],
   "source": [
    "(S-S.mean())/S.std()"
   ]
  },
  {
   "cell_type": "code",
   "execution_count": 66,
   "metadata": {},
   "outputs": [
    {
     "data": {
      "text/plain": [
       "new_cat\n",
       "0 個小孩        0.052500\n",
       "1 - 2 個小孩    0.733051\n",
       "3 - 5 個小孩    0.644369\n",
       "超過 5 個小孩    -1.429919\n",
       "dtype: float64"
      ]
     },
     "execution_count": 66,
     "metadata": {},
     "output_type": "execute_result"
    }
   ],
   "source": [
    "pd.Series(ss.zscore(S, ddof=1), S.index)"
   ]
  },
  {
   "cell_type": "code",
   "execution_count": 67,
   "metadata": {},
   "outputs": [],
   "source": [
    "zscore = lambda x: (x - x.mean()) / x.std()"
   ]
  },
  {
   "cell_type": "code",
   "execution_count": 68,
   "metadata": {},
   "outputs": [
    {
     "data": {
      "text/plain": [
       "0         0.345856\n",
       "1         0.990553\n",
       "2        -0.943538\n",
       "3        -0.298841\n",
       "4        -0.427780\n",
       "5        -0.642679\n",
       "6        -0.009056\n",
       "7         1.850149\n",
       "8        -0.513740\n",
       "9        -0.298841\n",
       "10       -0.151257\n",
       "11       -1.221291\n",
       "12       -0.943538\n",
       "13        0.122206\n",
       "14        0.216917\n",
       "15       -0.083942\n",
       "16       -0.556719\n",
       "17       -0.227826\n",
       "18       -0.513740\n",
       "19       -0.205949\n",
       "20       -0.298841\n",
       "21        0.067513\n",
       "22        0.669130\n",
       "23       -0.793108\n",
       "24       -0.096564\n",
       "25       -0.728639\n",
       "26       -0.513740\n",
       "27       -0.151257\n",
       "28        0.990553\n",
       "29       -0.728639\n",
       "            ...   \n",
       "307481    0.560755\n",
       "307482    0.560755\n",
       "307483   -0.642679\n",
       "307484    3.569341\n",
       "307485    0.231590\n",
       "307486    0.286283\n",
       "307487   -0.470760\n",
       "307488   -0.083942\n",
       "307489    0.560755\n",
       "307490   -0.814598\n",
       "307491   -0.205949\n",
       "307492    3.999139\n",
       "307493   -0.298841\n",
       "307494    0.231590\n",
       "307495    0.130957\n",
       "307496    1.850149\n",
       "307497    0.130957\n",
       "307498    0.302877\n",
       "307499   -0.814598\n",
       "307500    0.904594\n",
       "307501   -0.820210\n",
       "307502   -0.195011\n",
       "307503   -0.513740\n",
       "307504   -0.126921\n",
       "307505   -0.513740\n",
       "307506   -0.083942\n",
       "307507   -0.900558\n",
       "307508   -0.126921\n",
       "307509    0.044998\n",
       "307510   -0.083942\n",
       "Name: AMT_INCOME_TOTAL, Length: 307511, dtype: float64"
      ]
     },
     "execution_count": 68,
     "metadata": {},
     "output_type": "execute_result"
    }
   ],
   "source": [
    "CNT_CHILDREN_GROUP['AMT_INCOME_TOTAL'].transform(zscore)\n"
   ]
  },
  {
   "cell_type": "code",
   "execution_count": 77,
   "metadata": {},
   "outputs": [
    {
     "data": {
      "text/plain": [
       "0         0.345856\n",
       "1         0.990553\n",
       "2        -0.943538\n",
       "3        -0.298841\n",
       "4        -0.427780\n",
       "5        -0.642679\n",
       "6        -0.009056\n",
       "7         1.850149\n",
       "8        -0.513740\n",
       "9        -0.298841\n",
       "10       -0.151257\n",
       "11       -1.221291\n",
       "12       -0.943538\n",
       "13        0.122206\n",
       "14        0.216917\n",
       "15       -0.083942\n",
       "16       -0.556719\n",
       "17       -0.227826\n",
       "18       -0.513740\n",
       "19       -0.205949\n",
       "20       -0.298841\n",
       "21        0.067513\n",
       "22        0.669130\n",
       "23       -0.793108\n",
       "24       -0.096564\n",
       "25       -0.728639\n",
       "26       -0.513740\n",
       "27       -0.151257\n",
       "28        0.990553\n",
       "29       -0.728639\n",
       "            ...   \n",
       "307481    0.560755\n",
       "307482    0.560755\n",
       "307483   -0.642679\n",
       "307484    3.569341\n",
       "307485    0.231590\n",
       "307486    0.286283\n",
       "307487   -0.470760\n",
       "307488   -0.083942\n",
       "307489    0.560755\n",
       "307490   -0.814598\n",
       "307491   -0.205949\n",
       "307492    3.999139\n",
       "307493   -0.298841\n",
       "307494    0.231590\n",
       "307495    0.130957\n",
       "307496    1.850149\n",
       "307497    0.130957\n",
       "307498    0.302877\n",
       "307499   -0.814598\n",
       "307500    0.904594\n",
       "307501   -0.820210\n",
       "307502   -0.195011\n",
       "307503   -0.513740\n",
       "307504   -0.126921\n",
       "307505   -0.513740\n",
       "307506   -0.083942\n",
       "307507   -0.900558\n",
       "307508   -0.126921\n",
       "307509    0.044998\n",
       "307510   -0.083942\n",
       "Name: AMT_INCOME_TOTAL, Length: 307511, dtype: float64"
      ]
     },
     "execution_count": 77,
     "metadata": {},
     "output_type": "execute_result"
    }
   ],
   "source": [
    "CNT_CHILDREN_GROUP['AMT_INCOME_TOTAL'].apply(zscore)"
   ]
  },
  {
   "cell_type": "code",
   "execution_count": 92,
   "metadata": {},
   "outputs": [
    {
     "data": {
      "text/plain": [
       "new_cat\n",
       "0 個小孩        [0.34585721963426735, 0.9905557273232661, -0.9...\n",
       "1 - 2 個小孩    [-0.009056425190450017, -0.15125764243487497, ...\n",
       "3 - 5 個小孩    [-0.02325878505780375, -0.3420781296004635, -1...\n",
       "超過 5 個小孩     [-0.8678439964338143, 0.13334255395850014, -0....\n",
       "Name: AMT_INCOME_TOTAL, dtype: object"
      ]
     },
     "execution_count": 92,
     "metadata": {},
     "output_type": "execute_result"
    }
   ],
   "source": [
    "CNT_CHILDREN_GROUP['AMT_INCOME_TOTAL'].apply(ss.zscore)"
   ]
  }
 ],
 "metadata": {
  "anaconda-cloud": {},
  "kernelspec": {
   "display_name": "Python 3",
   "language": "python",
   "name": "python3"
  },
  "language_info": {
   "codemirror_mode": {
    "name": "ipython",
    "version": 3
   },
   "file_extension": ".py",
   "mimetype": "text/x-python",
   "name": "python",
   "nbconvert_exporter": "python",
   "pygments_lexer": "ipython3",
   "version": "3.7.2"
  }
 },
 "nbformat": 4,
 "nbformat_minor": 2
}
