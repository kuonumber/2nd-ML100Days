{
 "cells": [
  {
   "cell_type": "markdown",
   "metadata": {},
   "source": [
    "## Work\n",
    "1. 請嘗試將 preproc_x 替換成以每筆資料的 min/max 進行標準化至 -1 ~ 1 間，再進行訓練\n",
    "2. 請嘗試將 mlp 疊更深 (e.g 5~10 層)，進行訓練後觀察 learning curve 的走勢\n",
    "3. (optional) 請改用 GPU 進行訓練 (如果你有 GPU 的話)，比較使用 CPU 與 GPU 的訓練速度"
   ]
  },
  {
   "cell_type": "code",
   "execution_count": 1,
   "metadata": {},
   "outputs": [
    {
     "name": "stdout",
     "output_type": "stream",
     "text": [
      "Mon Mar 02 13:11:15 2020       \n",
      "+-----------------------------------------------------------------------------+\n",
      "| NVIDIA-SMI 442.19       Driver Version: 442.19       CUDA Version: 10.2     |\n",
      "|-------------------------------+----------------------+----------------------+\n",
      "| GPU  Name            TCC/WDDM | Bus-Id        Disp.A | Volatile Uncorr. ECC |\n",
      "| Fan  Temp  Perf  Pwr:Usage/Cap|         Memory-Usage | GPU-Util  Compute M. |\n",
      "|===============================+======================+======================|\n",
      "|   0  GeForce 940M       WDDM  | 00000000:01:00.0 Off |                  N/A |\n",
      "| N/A   49C    P8    N/A /  N/A |    302MiB /  2048MiB |      0%      Default |\n",
      "+-------------------------------+----------------------+----------------------+\n",
      "                                                                               \n",
      "+-----------------------------------------------------------------------------+\n",
      "| Processes:                                                       GPU Memory |\n",
      "|  GPU       PID   Type   Process name                             Usage      |\n",
      "|=============================================================================|\n",
      "|    0      1200    C+G   ...0128.0_x64__8wekyb3d8bbwe\\onenoteim.exe N/A      |\n",
      "|    0      1284    C+G   Insufficient Permissions                   N/A      |\n",
      "|    0      2340      C   ...ers\\USER\\Anaconda3\\envs\\tf_2\\python.exe N/A      |\n",
      "|    0      6244    C+G   ...hell.Experiences.TextInput.InputApp.exe N/A      |\n",
      "|    0      7064    C+G   ...5n1h2txyewy\\StartMenuExperienceHost.exe N/A      |\n",
      "|    0      8156    C+G   ...0_x64__ybyqcqtwzm05j\\BingDictUWP.UI.exe N/A      |\n",
      "|    0     12732    C+G   ....133.0_x64__8wekyb3d8bbwe\\YourPhone.exe N/A      |\n",
      "|    0     13004    C+G   ...tHubDesktop\\app-2.3.1\\GitHubDesktop.exe N/A      |\n",
      "|    0     14056    C+G   ..._x64__dxq41chw5ps0m\\app\\PomoDoneApp.exe N/A      |\n",
      "+-----------------------------------------------------------------------------+\n"
     ]
    }
   ],
   "source": [
    "## \n",
    "\"\"\"\n",
    "Your code here (optional)\n",
    "確認硬體資源\n",
    "\"\"\"\n",
    "!nvidia-smi"
   ]
  },
  {
   "cell_type": "code",
   "execution_count": 2,
   "metadata": {},
   "outputs": [
    {
     "name": "stderr",
     "output_type": "stream",
     "text": [
      "Using TensorFlow backend.\n"
     ]
    }
   ],
   "source": [
    "import os\n",
    "import keras\n",
    "\n",
    "# 請嘗試設定 GPU：os.environ\n"
   ]
  },
  {
   "cell_type": "code",
   "execution_count": 11,
   "metadata": {},
   "outputs": [],
   "source": [
    "train, test = keras.datasets.cifar10.load_data()"
   ]
  },
  {
   "cell_type": "code",
   "execution_count": 15,
   "metadata": {},
   "outputs": [],
   "source": [
    "## 資料前處理\n",
    "\"\"\"\n",
    "Your code here\n",
    "\"\"\"\n",
    "def preproc_x(x, flatten=True):\n",
    "    x = 2 * (x / 255) -1.\n",
    "    if flatten:\n",
    "        x = x.reshape((len(x), -1))\n",
    "    return x\n",
    "\n",
    "def preproc_y(y, num_classes=10):\n",
    "    if y.shape[-1] == 1:\n",
    "        y = keras.utils.to_categorical(y, num_classes)\n",
    "    return y  "
   ]
  },
  {
   "cell_type": "code",
   "execution_count": 16,
   "metadata": {},
   "outputs": [],
   "source": [
    "x_train, y_train = train\n",
    "x_test, y_test = test\n",
    "\n",
    "# Preproc the inputs\n",
    "x_train = preproc_x(x_train)\n",
    "x_test = preproc_x(x_test)\n",
    "\n",
    "# Preprc the outputs\n",
    "y_train = preproc_y(y_train)\n",
    "y_test = preproc_y(y_test)"
   ]
  },
  {
   "cell_type": "code",
   "execution_count": 19,
   "metadata": {},
   "outputs": [
    {
     "data": {
      "text/plain": [
       "array([[-0.5372549 , -0.51372549, -0.50588235, ..., -0.03529412,\n",
       "        -0.27843137, -0.43529412],\n",
       "       [ 0.20784314,  0.38823529,  0.46666667, ...,  0.12156863,\n",
       "         0.04313725,  0.12941176],\n",
       "       [ 1.        ,  1.        ,  1.        , ..., -0.37254902,\n",
       "        -0.3254902 , -0.34117647],\n",
       "       ...,\n",
       "       [-0.7254902 ,  0.39607843,  0.84313725, ..., -0.90588235,\n",
       "        -0.75686275, -0.60784314],\n",
       "       [ 0.48235294,  0.65490196,  0.88235294, ...,  0.52941176,\n",
       "         0.49019608,  0.34117647],\n",
       "       [ 0.79607843,  0.79607843,  0.8745098 , ...,  0.27843137,\n",
       "         0.27843137,  0.2627451 ]])"
      ]
     },
     "execution_count": 19,
     "metadata": {},
     "output_type": "execute_result"
    }
   ],
   "source": [
    "x_train"
   ]
  },
  {
   "cell_type": "code",
   "execution_count": 20,
   "metadata": {},
   "outputs": [],
   "source": [
    "\"\"\"Code Here\n",
    "建立你的神經網路\n",
    "\"\"\"\n",
    "def build_mlp(input_shape, output_units=10, num_neurons=[512, 256, 128]):\n",
    "    input_layer = keras.layers.Input(input_shape)\n",
    "    \n",
    "    for i, n_units in enumerate(num_neurons):\n",
    "        if i == 0:\n",
    "            x = keras.layers.Dense(units=n_units, activation=\"relu\", name=\"hidden_layer\"+str(i+1))(input_layer)\n",
    "        else:\n",
    "            x = keras.layers.Dense(units=n_units, activation=\"relu\", name=\"hidden_layer\"+str(i+1))(x)\n",
    "    \n",
    "    out = keras.layers.Dense(units=output_units, activation=\"softmax\", name=\"output\")(x)\n",
    "    \n",
    "    model = keras.models.Model(inputs=[input_layer], outputs=[out])\n",
    "    return model\n",
    "\n"
   ]
  },
  {
   "cell_type": "code",
   "execution_count": 21,
   "metadata": {},
   "outputs": [
    {
     "name": "stdout",
     "output_type": "stream",
     "text": [
      "Model: \"model_1\"\n",
      "_________________________________________________________________\n",
      "Layer (type)                 Output Shape              Param #   \n",
      "=================================================================\n",
      "input_1 (InputLayer)         (None, 3072)              0         \n",
      "_________________________________________________________________\n",
      "hidden_layer1 (Dense)        (None, 512)               1573376   \n",
      "_________________________________________________________________\n",
      "hidden_layer2 (Dense)        (None, 256)               131328    \n",
      "_________________________________________________________________\n",
      "hidden_layer3 (Dense)        (None, 128)               32896     \n",
      "_________________________________________________________________\n",
      "output (Dense)               (None, 10)                1290      \n",
      "=================================================================\n",
      "Total params: 1,738,890\n",
      "Trainable params: 1,738,890\n",
      "Non-trainable params: 0\n",
      "_________________________________________________________________\n"
     ]
    }
   ],
   "source": [
    "model = build_mlp(input_shape=x_train.shape[1:])\n",
    "model.summary()"
   ]
  },
  {
   "cell_type": "code",
   "execution_count": 22,
   "metadata": {},
   "outputs": [],
   "source": [
    "## 超參數設定\n",
    "LEARNING_RATE = 0.001\n",
    "EPOCHS = 100\n",
    "BATCH_SIZE = 256"
   ]
  },
  {
   "cell_type": "code",
   "execution_count": 23,
   "metadata": {},
   "outputs": [],
   "source": [
    "optimizer = keras.optimizers.Adam(lr=LEARNING_RATE)\n",
    "model.compile(loss=\"categorical_crossentropy\", metrics=[\"accuracy\"], optimizer=optimizer)"
   ]
  },
  {
   "cell_type": "code",
   "execution_count": 24,
   "metadata": {},
   "outputs": [
    {
     "name": "stdout",
     "output_type": "stream",
     "text": [
      "Train on 50000 samples, validate on 10000 samples\n",
      "Epoch 1/100\n",
      "50000/50000 [==============================] - 8s 170us/step - loss: 1.6752 - accuracy: 0.4078 - val_loss: 1.5042 - val_accuracy: 0.4709\n",
      "Epoch 2/100\n",
      "50000/50000 [==============================] - 8s 155us/step - loss: 1.4462 - accuracy: 0.4922 - val_loss: 1.4344 - val_accuracy: 0.4939\n",
      "Epoch 3/100\n",
      "50000/50000 [==============================] - 8s 160us/step - loss: 1.3244 - accuracy: 0.5359 - val_loss: 1.4038 - val_accuracy: 0.5123\n",
      "Epoch 4/100\n",
      "50000/50000 [==============================] - 9s 182us/step - loss: 1.2327 - accuracy: 0.5671 - val_loss: 1.4160 - val_accuracy: 0.5059\n",
      "Epoch 5/100\n",
      "50000/50000 [==============================] - 9s 175us/step - loss: 1.1426 - accuracy: 0.5990 - val_loss: 1.3924 - val_accuracy: 0.5249\n",
      "Epoch 6/100\n",
      "50000/50000 [==============================] - 11s 227us/step - loss: 1.0626 - accuracy: 0.6272 - val_loss: 1.3950 - val_accuracy: 0.5315\n",
      "Epoch 7/100\n",
      "50000/50000 [==============================] - 13s 266us/step - loss: 0.9843 - accuracy: 0.6541 - val_loss: 1.3960 - val_accuracy: 0.5340\n",
      "Epoch 8/100\n",
      "50000/50000 [==============================] - 8s 169us/step - loss: 0.9072 - accuracy: 0.6814 - val_loss: 1.4513 - val_accuracy: 0.5289\n",
      "Epoch 9/100\n",
      "50000/50000 [==============================] - 8s 159us/step - loss: 0.8341 - accuracy: 0.7076 - val_loss: 1.4702 - val_accuracy: 0.5324\n",
      "Epoch 10/100\n",
      "50000/50000 [==============================] - 9s 174us/step - loss: 0.7586 - accuracy: 0.7334 - val_loss: 1.5214 - val_accuracy: 0.5279\n",
      "Epoch 11/100\n",
      "50000/50000 [==============================] - 8s 156us/step - loss: 0.6856 - accuracy: 0.7569 - val_loss: 1.5789 - val_accuracy: 0.5363\n",
      "Epoch 12/100\n",
      "50000/50000 [==============================] - 8s 153us/step - loss: 0.6270 - accuracy: 0.7795 - val_loss: 1.6360 - val_accuracy: 0.5277\n",
      "Epoch 13/100\n",
      "50000/50000 [==============================] - 8s 154us/step - loss: 0.5628 - accuracy: 0.8019 - val_loss: 1.7400 - val_accuracy: 0.5294\n",
      "Epoch 14/100\n",
      "50000/50000 [==============================] - 8s 152us/step - loss: 0.5124 - accuracy: 0.8195 - val_loss: 1.8661 - val_accuracy: 0.5247\n",
      "Epoch 15/100\n",
      "50000/50000 [==============================] - 8s 152us/step - loss: 0.4627 - accuracy: 0.8366 - val_loss: 1.9359 - val_accuracy: 0.5308\n",
      "Epoch 16/100\n",
      "50000/50000 [==============================] - 8s 153us/step - loss: 0.4138 - accuracy: 0.8547 - val_loss: 2.0399 - val_accuracy: 0.5297\n",
      "Epoch 17/100\n",
      "50000/50000 [==============================] - 8s 154us/step - loss: 0.3673 - accuracy: 0.8714 - val_loss: 2.1963 - val_accuracy: 0.5306\n",
      "Epoch 18/100\n",
      "50000/50000 [==============================] - 8s 163us/step - loss: 0.3467 - accuracy: 0.8789 - val_loss: 2.2480 - val_accuracy: 0.5303\n",
      "Epoch 19/100\n",
      "50000/50000 [==============================] - 8s 151us/step - loss: 0.3129 - accuracy: 0.8908 - val_loss: 2.3593 - val_accuracy: 0.5258\n",
      "Epoch 20/100\n",
      "50000/50000 [==============================] - 8s 152us/step - loss: 0.2755 - accuracy: 0.9044 - val_loss: 2.4438 - val_accuracy: 0.5272\n",
      "Epoch 21/100\n",
      "50000/50000 [==============================] - 8s 157us/step - loss: 0.2663 - accuracy: 0.9075 - val_loss: 2.5394 - val_accuracy: 0.5270\n",
      "Epoch 22/100\n",
      "50000/50000 [==============================] - 8s 152us/step - loss: 0.2483 - accuracy: 0.9136 - val_loss: 2.6309 - val_accuracy: 0.5291\n",
      "Epoch 23/100\n",
      "50000/50000 [==============================] - 8s 151us/step - loss: 0.2284 - accuracy: 0.9208 - val_loss: 2.7465 - val_accuracy: 0.5194\n",
      "Epoch 24/100\n",
      "50000/50000 [==============================] - 8s 152us/step - loss: 0.2152 - accuracy: 0.9262 - val_loss: 2.8561 - val_accuracy: 0.5278\n",
      "Epoch 25/100\n",
      "50000/50000 [==============================] - 8s 169us/step - loss: 0.2079 - accuracy: 0.9287 - val_loss: 2.9595 - val_accuracy: 0.5235\n",
      "Epoch 26/100\n",
      "50000/50000 [==============================] - 8s 164us/step - loss: 0.1778 - accuracy: 0.9401 - val_loss: 2.9584 - val_accuracy: 0.5299\n",
      "Epoch 27/100\n",
      "50000/50000 [==============================] - 8s 153us/step - loss: 0.1773 - accuracy: 0.9391 - val_loss: 3.1177 - val_accuracy: 0.5207\n",
      "Epoch 28/100\n",
      "50000/50000 [==============================] - 8s 152us/step - loss: 0.1947 - accuracy: 0.9328 - val_loss: 3.1466 - val_accuracy: 0.5212\n",
      "Epoch 29/100\n",
      "50000/50000 [==============================] - 8s 151us/step - loss: 0.1780 - accuracy: 0.9382 - val_loss: 3.2916 - val_accuracy: 0.5190\n",
      "Epoch 30/100\n",
      "50000/50000 [==============================] - 8s 152us/step - loss: 0.1758 - accuracy: 0.9380 - val_loss: 3.3112 - val_accuracy: 0.5184\n",
      "Epoch 31/100\n",
      "50000/50000 [==============================] - 8s 150us/step - loss: 0.1647 - accuracy: 0.9445 - val_loss: 3.3412 - val_accuracy: 0.5256\n",
      "Epoch 32/100\n",
      "50000/50000 [==============================] - 8s 153us/step - loss: 0.1486 - accuracy: 0.9493 - val_loss: 3.4711 - val_accuracy: 0.5244\n",
      "Epoch 33/100\n",
      "50000/50000 [==============================] - 8s 155us/step - loss: 0.1551 - accuracy: 0.9474 - val_loss: 3.4956 - val_accuracy: 0.5277\n",
      "Epoch 34/100\n",
      "50000/50000 [==============================] - 8s 166us/step - loss: 0.1393 - accuracy: 0.9531 - val_loss: 3.5915 - val_accuracy: 0.5145\n",
      "Epoch 35/100\n",
      "50000/50000 [==============================] - 8s 152us/step - loss: 0.1529 - accuracy: 0.9473 - val_loss: 3.6446 - val_accuracy: 0.5167\n",
      "Epoch 36/100\n",
      "50000/50000 [==============================] - 8s 152us/step - loss: 0.1448 - accuracy: 0.9509 - val_loss: 3.6618 - val_accuracy: 0.5229\n",
      "Epoch 37/100\n",
      "50000/50000 [==============================] - 8s 151us/step - loss: 0.1356 - accuracy: 0.9549 - val_loss: 3.7291 - val_accuracy: 0.5234\n",
      "Epoch 38/100\n",
      "50000/50000 [==============================] - 8s 156us/step - loss: 0.1085 - accuracy: 0.9631 - val_loss: 3.8651 - val_accuracy: 0.5306\n",
      "Epoch 39/100\n",
      "50000/50000 [==============================] - 7s 150us/step - loss: 0.1220 - accuracy: 0.9600 - val_loss: 3.8291 - val_accuracy: 0.5219\n",
      "Epoch 40/100\n",
      "50000/50000 [==============================] - 8s 152us/step - loss: 0.1279 - accuracy: 0.9565 - val_loss: 3.9302 - val_accuracy: 0.5261\n",
      "Epoch 41/100\n",
      "50000/50000 [==============================] - 8s 165us/step - loss: 0.1172 - accuracy: 0.9614 - val_loss: 3.9359 - val_accuracy: 0.5242\n",
      "Epoch 42/100\n",
      "50000/50000 [==============================] - 8s 154us/step - loss: 0.1422 - accuracy: 0.9525 - val_loss: 3.9084 - val_accuracy: 0.5269\n",
      "Epoch 43/100\n",
      "50000/50000 [==============================] - 8s 163us/step - loss: 0.1151 - accuracy: 0.9609 - val_loss: 3.9669 - val_accuracy: 0.5313\n",
      "Epoch 44/100\n",
      "50000/50000 [==============================] - 13s 268us/step - loss: 0.0981 - accuracy: 0.9669 - val_loss: 4.1349 - val_accuracy: 0.5232\n",
      "Epoch 45/100\n",
      "50000/50000 [==============================] - 17s 338us/step - loss: 0.1254 - accuracy: 0.9579 - val_loss: 4.2549 - val_accuracy: 0.5203\n",
      "Epoch 46/100\n",
      "50000/50000 [==============================] - 18s 361us/step - loss: 0.1394 - accuracy: 0.9534 - val_loss: 4.1716 - val_accuracy: 0.5186\n",
      "Epoch 47/100\n",
      "50000/50000 [==============================] - 18s 355us/step - loss: 0.1324 - accuracy: 0.9580 - val_loss: 4.2263 - val_accuracy: 0.5181\n",
      "Epoch 48/100\n",
      "50000/50000 [==============================] - 8s 158us/step - loss: 0.1174 - accuracy: 0.9613 - val_loss: 4.1728 - val_accuracy: 0.5248\n",
      "Epoch 49/100\n",
      "50000/50000 [==============================] - 10s 191us/step - loss: 0.1111 - accuracy: 0.9633 - val_loss: 4.3989 - val_accuracy: 0.5198\n",
      "Epoch 50/100\n",
      "50000/50000 [==============================] - 10s 192us/step - loss: 0.0867 - accuracy: 0.9719 - val_loss: 4.3068 - val_accuracy: 0.5290\n",
      "Epoch 51/100\n",
      "50000/50000 [==============================] - 9s 190us/step - loss: 0.1125 - accuracy: 0.9627 - val_loss: 4.2983 - val_accuracy: 0.5244\n",
      "Epoch 52/100\n",
      "50000/50000 [==============================] - 24s 474us/step - loss: 0.1004 - accuracy: 0.9664 - val_loss: 4.4737 - val_accuracy: 0.5304\n",
      "Epoch 53/100\n",
      "50000/50000 [==============================] - 11s 226us/step - loss: 0.1029 - accuracy: 0.9662 - val_loss: 4.6012 - val_accuracy: 0.5146\n",
      "Epoch 54/100\n",
      "50000/50000 [==============================] - 16s 314us/step - loss: 0.0983 - accuracy: 0.9681 - val_loss: 4.5818 - val_accuracy: 0.5247\n",
      "Epoch 55/100\n"
     ]
    },
    {
     "name": "stdout",
     "output_type": "stream",
     "text": [
      "50000/50000 [==============================] - 9s 188us/step - loss: 0.1238 - accuracy: 0.9600 - val_loss: 4.4747 - val_accuracy: 0.5201\n",
      "Epoch 56/100\n",
      "50000/50000 [==============================] - 8s 166us/step - loss: 0.1081 - accuracy: 0.9655 - val_loss: 4.5963 - val_accuracy: 0.5194\n",
      "Epoch 57/100\n",
      "50000/50000 [==============================] - 8s 162us/step - loss: 0.0893 - accuracy: 0.9693 - val_loss: 4.6593 - val_accuracy: 0.5232\n",
      "Epoch 58/100\n",
      "50000/50000 [==============================] - 8s 155us/step - loss: 0.0704 - accuracy: 0.9765 - val_loss: 4.6088 - val_accuracy: 0.5296\n",
      "Epoch 59/100\n",
      "50000/50000 [==============================] - 8s 155us/step - loss: 0.0707 - accuracy: 0.9772 - val_loss: 4.7682 - val_accuracy: 0.5252\n",
      "Epoch 60/100\n",
      "50000/50000 [==============================] - 9s 177us/step - loss: 0.0803 - accuracy: 0.9740 - val_loss: 4.7279 - val_accuracy: 0.5277\n",
      "Epoch 61/100\n",
      "50000/50000 [==============================] - 8s 162us/step - loss: 0.1158 - accuracy: 0.9630 - val_loss: 4.7455 - val_accuracy: 0.5233\n",
      "Epoch 62/100\n",
      "50000/50000 [==============================] - 14s 276us/step - loss: 0.1235 - accuracy: 0.9609 - val_loss: 4.7949 - val_accuracy: 0.5230\n",
      "Epoch 63/100\n",
      "50000/50000 [==============================] - 20s 404us/step - loss: 0.0894 - accuracy: 0.9712 - val_loss: 4.9613 - val_accuracy: 0.5271\n",
      "Epoch 64/100\n",
      "50000/50000 [==============================] - 17s 330us/step - loss: 0.0786 - accuracy: 0.9740 - val_loss: 4.8362 - val_accuracy: 0.5218\n",
      "Epoch 65/100\n",
      "50000/50000 [==============================] - 11s 223us/step - loss: 0.0998 - accuracy: 0.9687 - val_loss: 4.8354 - val_accuracy: 0.5265\n",
      "Epoch 66/100\n",
      "50000/50000 [==============================] - 8s 158us/step - loss: 0.1028 - accuracy: 0.9667 - val_loss: 4.6731 - val_accuracy: 0.5353\n",
      "Epoch 67/100\n",
      "50000/50000 [==============================] - 8s 161us/step - loss: 0.0838 - accuracy: 0.9734 - val_loss: 4.8199 - val_accuracy: 0.5238\n",
      "Epoch 68/100\n",
      "50000/50000 [==============================] - 8s 158us/step - loss: 0.0754 - accuracy: 0.9756 - val_loss: 4.9472 - val_accuracy: 0.5236\n",
      "Epoch 69/100\n",
      "50000/50000 [==============================] - 8s 155us/step - loss: 0.0810 - accuracy: 0.9736 - val_loss: 5.0118 - val_accuracy: 0.5176\n",
      "Epoch 70/100\n",
      "50000/50000 [==============================] - 8s 151us/step - loss: 0.0943 - accuracy: 0.9692 - val_loss: 4.9971 - val_accuracy: 0.5168\n",
      "Epoch 71/100\n",
      "50000/50000 [==============================] - 8s 153us/step - loss: 0.1034 - accuracy: 0.9669 - val_loss: 5.0050 - val_accuracy: 0.5199\n",
      "Epoch 72/100\n",
      "50000/50000 [==============================] - 9s 177us/step - loss: 0.0712 - accuracy: 0.9770 - val_loss: 5.1140 - val_accuracy: 0.5244\n",
      "Epoch 73/100\n",
      "50000/50000 [==============================] - 10s 209us/step - loss: 0.0668 - accuracy: 0.9784 - val_loss: 5.2222 - val_accuracy: 0.5236\n",
      "Epoch 74/100\n",
      "50000/50000 [==============================] - 13s 268us/step - loss: 0.0869 - accuracy: 0.9732 - val_loss: 5.1326 - val_accuracy: 0.5155\n",
      "Epoch 75/100\n",
      "50000/50000 [==============================] - 9s 181us/step - loss: 0.0828 - accuracy: 0.9738 - val_loss: 5.1183 - val_accuracy: 0.5281\n",
      "Epoch 76/100\n",
      "50000/50000 [==============================] - 11s 213us/step - loss: 0.0855 - accuracy: 0.9724 - val_loss: 5.2043 - val_accuracy: 0.5221\n",
      "Epoch 77/100\n",
      "  256/50000 [..............................] - ETA: 7s - loss: 0.0839 - accuracy: 0.9766"
     ]
    },
    {
     "name": "stderr",
     "output_type": "stream",
     "text": [
      "C:\\Users\\USER\\Anaconda3\\envs\\tf_2\\lib\\site-packages\\keras\\callbacks\\callbacks.py:95: RuntimeWarning: Method (on_train_batch_end) is slow compared to the batch update (0.116999). Check your callbacks.\n",
      "  % (hook_name, delta_t_median), RuntimeWarning)\n"
     ]
    },
    {
     "name": "stdout",
     "output_type": "stream",
     "text": [
      "50000/50000 [==============================] - 14s 280us/step - loss: 0.0889 - accuracy: 0.9717 - val_loss: 5.0362 - val_accuracy: 0.5216\n",
      "Epoch 78/100\n",
      "50000/50000 [==============================] - 14s 281us/step - loss: 0.0865 - accuracy: 0.9722 - val_loss: 5.1339 - val_accuracy: 0.5254\n",
      "Epoch 79/100\n",
      "50000/50000 [==============================] - 15s 305us/step - loss: 0.0874 - accuracy: 0.9738 - val_loss: 5.2606 - val_accuracy: 0.5246\n",
      "Epoch 80/100\n",
      "50000/50000 [==============================] - 14s 289us/step - loss: 0.0718 - accuracy: 0.9769 - val_loss: 5.3184 - val_accuracy: 0.5262\n",
      "Epoch 81/100\n",
      "50000/50000 [==============================] - 12s 233us/step - loss: 0.0590 - accuracy: 0.9809 - val_loss: 5.3497 - val_accuracy: 0.5230\n",
      "Epoch 82/100\n",
      "50000/50000 [==============================] - 8s 154us/step - loss: 0.0825 - accuracy: 0.9744 - val_loss: 5.3052 - val_accuracy: 0.5221\n",
      "Epoch 83/100\n",
      "50000/50000 [==============================] - 11s 214us/step - loss: 0.0935 - accuracy: 0.9709 - val_loss: 5.2725 - val_accuracy: 0.5221\n",
      "Epoch 84/100\n",
      "50000/50000 [==============================] - 8s 162us/step - loss: 0.0599 - accuracy: 0.9805 - val_loss: 5.3801 - val_accuracy: 0.5205\n",
      "Epoch 85/100\n",
      "50000/50000 [==============================] - 8s 153us/step - loss: 0.0547 - accuracy: 0.9820 - val_loss: 5.3707 - val_accuracy: 0.5246\n",
      "Epoch 86/100\n",
      "50000/50000 [==============================] - 9s 188us/step - loss: 0.0675 - accuracy: 0.9795 - val_loss: 5.5704 - val_accuracy: 0.5186\n",
      "Epoch 87/100\n",
      "50000/50000 [==============================] - 9s 178us/step - loss: 0.0931 - accuracy: 0.9720 - val_loss: 5.5495 - val_accuracy: 0.5211\n",
      "Epoch 88/100\n",
      "50000/50000 [==============================] - 9s 179us/step - loss: 0.0829 - accuracy: 0.9743 - val_loss: 5.2850 - val_accuracy: 0.5206\n",
      "Epoch 89/100\n",
      "50000/50000 [==============================] - 11s 226us/step - loss: 0.0955 - accuracy: 0.9709 - val_loss: 5.4712 - val_accuracy: 0.5203\n",
      "Epoch 90/100\n",
      "50000/50000 [==============================] - 13s 268us/step - loss: 0.0634 - accuracy: 0.9802 - val_loss: 5.4353 - val_accuracy: 0.5306\n",
      "Epoch 91/100\n",
      "50000/50000 [==============================] - 10s 194us/step - loss: 0.0532 - accuracy: 0.9828 - val_loss: 5.5058 - val_accuracy: 0.5274\n",
      "Epoch 92/100\n",
      "50000/50000 [==============================] - 8s 156us/step - loss: 0.0566 - accuracy: 0.9823 - val_loss: 5.6316 - val_accuracy: 0.5285\n",
      "Epoch 93/100\n",
      "50000/50000 [==============================] - 8s 157us/step - loss: 0.0643 - accuracy: 0.9795 - val_loss: 5.6550 - val_accuracy: 0.5204\n",
      "Epoch 94/100\n",
      "50000/50000 [==============================] - 7s 149us/step - loss: 0.0725 - accuracy: 0.9770 - val_loss: 5.5807 - val_accuracy: 0.5145\n",
      "Epoch 95/100\n",
      "50000/50000 [==============================] - 8s 153us/step - loss: 0.0766 - accuracy: 0.9763 - val_loss: 5.7802 - val_accuracy: 0.5256\n",
      "Epoch 96/100\n",
      "50000/50000 [==============================] - 8s 152us/step - loss: 0.0673 - accuracy: 0.9794 - val_loss: 5.6781 - val_accuracy: 0.5274\n",
      "Epoch 97/100\n",
      "50000/50000 [==============================] - 8s 167us/step - loss: 0.0715 - accuracy: 0.9774 - val_loss: 5.5205 - val_accuracy: 0.5281\n",
      "Epoch 98/100\n",
      "50000/50000 [==============================] - 10s 202us/step - loss: 0.0829 - accuracy: 0.9752 - val_loss: 5.4374 - val_accuracy: 0.5267\n",
      "Epoch 99/100\n",
      "50000/50000 [==============================] - 11s 220us/step - loss: 0.0618 - accuracy: 0.9814 - val_loss: 5.7881 - val_accuracy: 0.5351\n",
      "Epoch 100/100\n",
      "50000/50000 [==============================] - 9s 170us/step - loss: 0.0597 - accuracy: 0.9824 - val_loss: 5.7095 - val_accuracy: 0.5166\n"
     ]
    },
    {
     "data": {
      "text/plain": [
       "<keras.callbacks.callbacks.History at 0x19f9e2ac668>"
      ]
     },
     "execution_count": 24,
     "metadata": {},
     "output_type": "execute_result"
    }
   ],
   "source": [
    "model.fit(x_train, y_train, \n",
    "          epochs=EPOCHS, \n",
    "          batch_size=BATCH_SIZE, \n",
    "          validation_data=(x_test, y_test), \n",
    "          shuffle=True)"
   ]
  },
  {
   "cell_type": "code",
   "execution_count": 26,
   "metadata": {},
   "outputs": [
    {
     "data": {
      "image/png": "[encoded data removed]",
      "text/plain": [
       "<Figure size 432x288 with 1 Axes>"
      ]
     },
     "metadata": {
      "needs_background": "light"
     },
     "output_type": "display_data"
    },
    {
     "data": {
      "image/png": "[encoded data removed]",
      "text/plain": [
       "<Figure size 432x288 with 1 Axes>"
      ]
     },
     "metadata": {
      "needs_background": "light"
     },
     "output_type": "display_data"
    }
   ],
   "source": [
    "import matplotlib.pyplot as plt\n",
    "\n",
    "\n",
    "train_loss = model.history.history[\"loss\"]\n",
    "valid_loss = model.history.history[\"val_loss\"]\n",
    "\n",
    "train_acc = model.history.history[\"accuracy\"]\n",
    "valid_acc = model.history.history[\"val_accuracy\"]\n",
    "\n",
    "plt.plot(range(len(train_loss)), train_loss, label=\"train loss\")\n",
    "plt.plot(range(len(valid_loss)), valid_loss, label=\"valid loss\")\n",
    "plt.legend()\n",
    "plt.title(\"Loss\")\n",
    "plt.show()\n",
    "\n",
    "plt.plot(range(len(train_acc)), train_acc, label=\"train accuracy\")\n",
    "plt.plot(range(len(valid_acc)), valid_acc, label=\"valid accuracy\")\n",
    "plt.legend()\n",
    "plt.title(\"Accuracy\")\n",
    "plt.show()"
   ]
  },
  {
   "cell_type": "code",
   "execution_count": null,
   "metadata": {},
   "outputs": [],
   "source": []
  }
 ],
 "metadata": {
  "kernelspec": {
   "display_name": "Python 3",
   "language": "python",
   "name": "python3"
  },
  "toc": {
   "base_numbering": 1,
   "nav_menu": {},
   "number_sections": true,
   "sideBar": true,
   "skip_h1_title": false,
   "title_cell": "Table of Contents",
   "title_sidebar": "Contents",
   "toc_cell": false,
   "toc_position": {},
   "toc_section_display": true,
   "toc_window_display": false
  },
  "varInspector": {
   "cols": {
    "lenName": 16,
    "lenType": 16,
    "lenVar": 40
   },
   "kernels_config": {
    "python": {
     "delete_cmd_postfix": "",
     "delete_cmd_prefix": "del ",
     "library": "var_list.py",
     "varRefreshCmd": "print(var_dic_list())"
    },
    "r": {
     "delete_cmd_postfix": ") ",
     "delete_cmd_prefix": "rm(",
     "library": "var_list.r",
     "varRefreshCmd": "cat(var_dic_list()) "
    }
   },
   "types_to_exclude": [
    "module",
    "function",
    "builtin_function_or_method",
    "instance",
    "_Feature"
   ],
   "window_display": false
  }
 },
 "nbformat": 4,
 "nbformat_minor": 2
}
