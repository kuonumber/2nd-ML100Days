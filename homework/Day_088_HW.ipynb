{
 "cells": [
  {
   "cell_type": "markdown",
   "metadata": {},
   "source": [
    "## Work\n",
    "1. 請嘗試寫一個 callback 用來記錄各類別在訓練過程中，對驗證集的 True Positive 與 True Negative"
   ]
  },
  {
   "cell_type": "code",
   "execution_count": 1,
   "metadata": {
    "ExecuteTime": {
     "end_time": "2020-03-16T02:06:11.233834Z",
     "start_time": "2020-03-16T02:06:03.494486Z"
    }
   },
   "outputs": [
    {
     "name": "stderr",
     "output_type": "stream",
     "text": [
      "Using TensorFlow backend.\n"
     ]
    }
   ],
   "source": [
    "import os\n",
    "import keras\n",
    "\n",
    "# Disable GPU\n",
    "os.environ[\"CUDA_VISIBLE_DEVICES\"] = \"0\""
   ]
  },
  {
   "cell_type": "code",
   "execution_count": 2,
   "metadata": {
    "ExecuteTime": {
     "end_time": "2020-03-16T02:06:12.162468Z",
     "start_time": "2020-03-16T02:06:11.291810Z"
    }
   },
   "outputs": [],
   "source": [
    "train, test = keras.datasets.cifar10.load_data()"
   ]
  },
  {
   "cell_type": "code",
   "execution_count": 3,
   "metadata": {
    "ExecuteTime": {
     "end_time": "2020-03-16T02:06:12.251440Z",
     "start_time": "2020-03-16T02:06:12.238443Z"
    }
   },
   "outputs": [],
   "source": [
    "## 資料前處理\n",
    "def preproc_x(x, flatten=True):\n",
    "    x = x / 255.\n",
    "    if flatten:\n",
    "        x = x.reshape((len(x), -1))\n",
    "    return x\n",
    "\n",
    "def preproc_y(y, num_classes=10):\n",
    "    if y.shape[-1] == 1:\n",
    "        y = keras.utils.to_categorical(y, num_classes)\n",
    "    return y    "
   ]
  },
  {
   "cell_type": "code",
   "execution_count": 4,
   "metadata": {
    "ExecuteTime": {
     "end_time": "2020-03-16T02:06:15.207032Z",
     "start_time": "2020-03-16T02:06:12.341440Z"
    }
   },
   "outputs": [],
   "source": [
    "x_train, y_train = train\n",
    "x_test, y_test = test\n",
    "\n",
    "# Preproc the inputs\n",
    "x_train = preproc_x(x_train)\n",
    "x_test = preproc_x(x_test)\n",
    "\n",
    "# Preprc the outputs\n",
    "y_train = preproc_y(y_train)\n",
    "y_test = preproc_y(y_test)"
   ]
  },
  {
   "cell_type": "code",
   "execution_count": 5,
   "metadata": {
    "ExecuteTime": {
     "end_time": "2020-03-16T02:06:15.414093Z",
     "start_time": "2020-03-16T02:06:15.387071Z"
    }
   },
   "outputs": [],
   "source": [
    "from keras.layers import BatchNormalization\n",
    "\n",
    "\"\"\"\n",
    "建立神經網路，並加入 BN layer\n",
    "\"\"\"\n",
    "def build_mlp(input_shape, output_units=10, num_neurons=[512, 256, 128]):\n",
    "    input_layer = keras.layers.Input(input_shape)\n",
    "    \n",
    "    for i, n_units in enumerate(num_neurons):\n",
    "        if i == 0:\n",
    "            x = keras.layers.Dense(units=n_units, \n",
    "                                   activation=\"relu\", \n",
    "                                   name=\"hidden_layer\"+str(i+1))(input_layer)\n",
    "            x = BatchNormalization()(x)\n",
    "        else:\n",
    "            x = keras.layers.Dense(units=n_units, \n",
    "                                   activation=\"relu\", \n",
    "                                   name=\"hidden_layer\"+str(i+1))(x)\n",
    "            x = BatchNormalization()(x)\n",
    "    \n",
    "    out = keras.layers.Dense(units=output_units, activation=\"softmax\", name=\"output\")(x)\n",
    "    \n",
    "    model = keras.models.Model(inputs=[input_layer], outputs=[out])\n",
    "    return model"
   ]
  },
  {
   "cell_type": "code",
   "execution_count": 6,
   "metadata": {
    "ExecuteTime": {
     "end_time": "2020-03-16T02:06:15.429600Z",
     "start_time": "2020-03-16T02:06:15.419599Z"
    }
   },
   "outputs": [],
   "source": [
    "## 超參數設定\n",
    "LEARNING_RATE = 1e-3\n",
    "EPOCHS = 25\n",
    "BATCH_SIZE = 1024\n",
    "MOMENTUM = 0.95"
   ]
  },
  {
   "cell_type": "markdown",
   "metadata": {},
   "source": [
    "Callbacks 的時機包含：\n",
    "* on_training_begin \n",
    "* on_epoch_begin \n",
    "* on_batch_begin \n",
    "* on_batch_end \n",
    "* on_epoch_end \n",
    "* on_training_end \n",
    " "
   ]
  },
  {
   "cell_type": "code",
   "execution_count": 7,
   "metadata": {
    "ExecuteTime": {
     "end_time": "2020-03-16T02:06:16.669366Z",
     "start_time": "2020-03-16T02:06:15.443600Z"
    }
   },
   "outputs": [],
   "source": [
    "from sklearn.metrics import confusion_matrix"
   ]
  },
  {
   "cell_type": "code",
   "execution_count": 24,
   "metadata": {
    "ExecuteTime": {
     "end_time": "2020-03-16T02:18:35.353102Z",
     "start_time": "2020-03-16T02:18:35.343102Z"
    }
   },
   "outputs": [],
   "source": [
    "confusion_matrix([0, 1, 0, 1], [1, 1, 1, 0]).ravel()\n",
    "tn, fp, fn, tp = confusion_matrix([0, 1, 0, 1], [1, 1, 1, 0]).ravel()"
   ]
  },
  {
   "cell_type": "code",
   "execution_count": 49,
   "metadata": {
    "ExecuteTime": {
     "end_time": "2020-03-16T02:59:14.292082Z",
     "start_time": "2020-03-16T02:59:14.264088Z"
    }
   },
   "outputs": [],
   "source": [
    "c = confusion_matrix(y_test.argmax(axis = 1), y_test.argmax(axis = 1))"
   ]
  },
  {
   "cell_type": "code",
   "execution_count": 51,
   "metadata": {
    "ExecuteTime": {
     "end_time": "2020-03-16T03:00:24.964076Z",
     "start_time": "2020-03-16T03:00:24.955084Z"
    }
   },
   "outputs": [
    {
     "data": {
      "text/plain": [
       "0"
      ]
     },
     "execution_count": 51,
     "metadata": {},
     "output_type": "execute_result"
    }
   ],
   "source": [
    "(c.sum(axis=0) - np.diag(c) ).sum()"
   ]
  },
  {
   "cell_type": "code",
   "execution_count": 60,
   "metadata": {
    "ExecuteTime": {
     "end_time": "2020-03-16T03:07:31.157469Z",
     "start_time": "2020-03-16T03:07:31.141469Z"
    }
   },
   "outputs": [],
   "source": [
    "# 載入 Callbacks\n",
    "from keras.callbacks import Callback\n",
    "from sklearn.metrics import confusion_matrix\n",
    "\n",
    "# Record_fp_tp\n",
    "class Record_tp_tn(Callback):\n",
    "    \"\"\"Code Here\n",
    "    撰寫一個紀錄 ture positive 與 true negative 數量的 callbacks    \n",
    "    \"\"\"\n",
    "    def on_train_begin(self, epoch, logs = {}):\n",
    "        logs = logs or {}\n",
    "        record_items = [\"val_auc\", \"val_f1sc\", \"val_fp\", \"val_fn\", \"val_tp\", \"val_tn\"]\n",
    "        for i in record_items:\n",
    "            if i not in self.params['metrics']:\n",
    "                self.params['metrics'].append(i)\n",
    "    \n",
    "    def on_epoch_end(self, epoch, logs = {}, thres=0.5):\n",
    "        logs = logs or {}\n",
    "        y_true = self.validation_data[1].argmax(axis = 1)\n",
    "        y_pred = self.model.predict(self.validation_data[0])\n",
    "        y_pred = (y_pred[:, 1] >= thres) * 1\n",
    "        \n",
    "        confusion_matrix_ = confusion_matrix(y_true = y_true, y_pred = y_pred)\n",
    "        FP = confusion_matrix_.sum(axis=0) - np.diag(confusion_matrix_)  \n",
    "        FN = confusion_matrix_.sum(axis=1) - np.diag(confusion_matrix_)\n",
    "        TP = np.diag(confusion_matrix_)\n",
    "        TN = confusion_matrix_.sum() - (FP + FN + TP)\n",
    "        logs[\"val_fp\"], logs[\"val_fn\"], logs[\"val_tp\"], logs[\"val_tn\"] = FP, FN, TP, TN\n",
    "\n",
    "        \n",
    "        \n",
    "        \n",
    "rec_tptn = Record_tp_tn()"
   ]
  },
  {
   "cell_type": "code",
   "execution_count": 61,
   "metadata": {
    "ExecuteTime": {
     "end_time": "2020-03-16T03:07:32.268744Z",
     "start_time": "2020-03-16T03:07:31.913729Z"
    }
   },
   "outputs": [
    {
     "name": "stdout",
     "output_type": "stream",
     "text": [
      "Model: \"model_8\"\n",
      "_________________________________________________________________\n",
      "Layer (type)                 Output Shape              Param #   \n",
      "=================================================================\n",
      "input_8 (InputLayer)         (None, 3072)              0         \n",
      "_________________________________________________________________\n",
      "hidden_layer1 (Dense)        (None, 512)               1573376   \n",
      "_________________________________________________________________\n",
      "batch_normalization_22 (Batc (None, 512)               2048      \n",
      "_________________________________________________________________\n",
      "hidden_layer2 (Dense)        (None, 256)               131328    \n",
      "_________________________________________________________________\n",
      "batch_normalization_23 (Batc (None, 256)               1024      \n",
      "_________________________________________________________________\n",
      "hidden_layer3 (Dense)        (None, 128)               32896     \n",
      "_________________________________________________________________\n",
      "batch_normalization_24 (Batc (None, 128)               512       \n",
      "_________________________________________________________________\n",
      "output (Dense)               (None, 10)                1290      \n",
      "=================================================================\n",
      "Total params: 1,742,474\n",
      "Trainable params: 1,740,682\n",
      "Non-trainable params: 1,792\n",
      "_________________________________________________________________\n"
     ]
    }
   ],
   "source": [
    "model = build_mlp(input_shape=x_train.shape[1:])\n",
    "model.summary()\n",
    "optimizer = keras.optimizers.SGD(lr=LEARNING_RATE, nesterov=True, momentum=MOMENTUM)\n",
    "model.compile(loss=\"categorical_crossentropy\", metrics=[\"accuracy\"], optimizer=optimizer)"
   ]
  },
  {
   "cell_type": "code",
   "execution_count": 62,
   "metadata": {
    "ExecuteTime": {
     "end_time": "2020-03-16T03:10:44.648996Z",
     "start_time": "2020-03-16T03:07:35.585892Z"
    }
   },
   "outputs": [
    {
     "name": "stdout",
     "output_type": "stream",
     "text": [
      "Train on 50000 samples, validate on 10000 samples\n",
      "Epoch 1/25\n",
      "50000/50000 [==============================] - 5s 106us/step - loss: 2.2346 - accuracy: 0.2620 - val_loss: 2.1671 - val_accuracy: 0.1902\n",
      "Epoch 2/25\n",
      "50000/50000 [==============================] - 5s 109us/step - loss: 1.7630 - accuracy: 0.3850 - val_loss: 1.9777 - val_accuracy: 0.2995\n",
      "Epoch 3/25\n",
      "50000/50000 [==============================] - 5s 104us/step - loss: 1.6320 - accuracy: 0.4266 - val_loss: 1.8354 - val_accuracy: 0.3553\n",
      "Epoch 4/25\n",
      "50000/50000 [==============================] - 5s 108us/step - loss: 1.5562 - accuracy: 0.4552 - val_loss: 1.7159 - val_accuracy: 0.4110\n",
      "Epoch 5/25\n",
      "50000/50000 [==============================] - 5s 93us/step - loss: 1.4989 - accuracy: 0.4783 - val_loss: 1.6460 - val_accuracy: 0.4245\n",
      "Epoch 6/25\n",
      "50000/50000 [==============================] - 5s 90us/step - loss: 1.4547 - accuracy: 0.4910 - val_loss: 1.5856 - val_accuracy: 0.4425\n",
      "Epoch 7/25\n",
      "50000/50000 [==============================] - 4s 86us/step - loss: 1.4128 - accuracy: 0.5077 - val_loss: 1.5548 - val_accuracy: 0.4506\n",
      "Epoch 8/25\n",
      "50000/50000 [==============================] - 4s 89us/step - loss: 1.3770 - accuracy: 0.5211 - val_loss: 1.5264 - val_accuracy: 0.4588\n",
      "Epoch 9/25\n",
      "50000/50000 [==============================] - 4s 86us/step - loss: 1.3445 - accuracy: 0.5321 - val_loss: 1.5118 - val_accuracy: 0.4641\n",
      "Epoch 10/25\n",
      "50000/50000 [==============================] - 4s 87us/step - loss: 1.3144 - accuracy: 0.5450 - val_loss: 1.4935 - val_accuracy: 0.4672\n",
      "Epoch 11/25\n",
      "50000/50000 [==============================] - 4s 88us/step - loss: 1.2858 - accuracy: 0.5534 - val_loss: 1.4915 - val_accuracy: 0.4713\n",
      "Epoch 12/25\n",
      "50000/50000 [==============================] - 4s 89us/step - loss: 1.2579 - accuracy: 0.5641 - val_loss: 1.4841 - val_accuracy: 0.4707\n",
      "Epoch 13/25\n",
      "50000/50000 [==============================] - 4s 87us/step - loss: 1.2315 - accuracy: 0.5728 - val_loss: 1.4686 - val_accuracy: 0.4810\n",
      "Epoch 14/25\n",
      "50000/50000 [==============================] - 5s 91us/step - loss: 1.2067 - accuracy: 0.5853 - val_loss: 1.4725 - val_accuracy: 0.4830\n",
      "Epoch 15/25\n",
      "50000/50000 [==============================] - 8s 159us/step - loss: 1.1842 - accuracy: 0.5929 - val_loss: 1.4660 - val_accuracy: 0.4804\n",
      "Epoch 16/25\n",
      "50000/50000 [==============================] - 7s 139us/step - loss: 1.1602 - accuracy: 0.6005 - val_loss: 1.4658 - val_accuracy: 0.4903\n",
      "Epoch 17/25\n",
      "50000/50000 [==============================] - 7s 130us/step - loss: 1.1367 - accuracy: 0.6094 - val_loss: 1.4583 - val_accuracy: 0.4883\n",
      "Epoch 18/25\n",
      "50000/50000 [==============================] - 8s 154us/step - loss: 1.1140 - accuracy: 0.6170 - val_loss: 1.4546 - val_accuracy: 0.4880\n",
      "Epoch 19/25\n",
      "50000/50000 [==============================] - 7s 142us/step - loss: 1.0915 - accuracy: 0.6281 - val_loss: 1.4473 - val_accuracy: 0.4902\n",
      "Epoch 20/25\n",
      "50000/50000 [==============================] - 6s 124us/step - loss: 1.0700 - accuracy: 0.6346 - val_loss: 1.4563 - val_accuracy: 0.4822\n",
      "Epoch 21/25\n",
      "50000/50000 [==============================] - 7s 150us/step - loss: 1.0481 - accuracy: 0.6423 - val_loss: 1.4562 - val_accuracy: 0.4888\n",
      "Epoch 22/25\n",
      "50000/50000 [==============================] - 7s 144us/step - loss: 1.0280 - accuracy: 0.6500 - val_loss: 1.4455 - val_accuracy: 0.4921\n",
      "Epoch 23/25\n",
      "50000/50000 [==============================] - 8s 157us/step - loss: 1.0052 - accuracy: 0.6605 - val_loss: 1.4534 - val_accuracy: 0.4879\n",
      "Epoch 24/25\n",
      "50000/50000 [==============================] - 7s 138us/step - loss: 0.9847 - accuracy: 0.6652 - val_loss: 1.4553 - val_accuracy: 0.4934\n",
      "Epoch 25/25\n",
      "50000/50000 [==============================] - 7s 135us/step - loss: 0.9638 - accuracy: 0.6745 - val_loss: 1.4495 - val_accuracy: 0.4878\n"
     ]
    },
    {
     "data": {
      "text/plain": [
       "<keras.callbacks.callbacks.History at 0x2707dd5bfd0>"
      ]
     },
     "execution_count": 62,
     "metadata": {},
     "output_type": "execute_result"
    }
   ],
   "source": [
    "\"\"\"Code Here\n",
    "將 callbacks 放入模型訓練流程中\n",
    "\"\"\"\n",
    "model.fit(x_train, y_train ,\n",
    "          batch_size=BATCH_SIZE,\n",
    "          epochs=EPOCHS,\n",
    "          validation_data=(x_test, y_test),\n",
    "          callbacks=[rec_tptn])"
   ]
  },
  {
   "cell_type": "code",
   "execution_count": 63,
   "metadata": {
    "ExecuteTime": {
     "end_time": "2020-03-16T03:10:44.848164Z",
     "start_time": "2020-03-16T03:10:44.837165Z"
    }
   },
   "outputs": [
    {
     "data": {
      "text/plain": [
       "dict_keys(['val_loss', 'val_accuracy', 'loss', 'accuracy', 'val_fp', 'val_fn', 'val_tp', 'val_tn'])"
      ]
     },
     "execution_count": 63,
     "metadata": {},
     "output_type": "execute_result"
    }
   ],
   "source": [
    "model.history.history.keys()"
   ]
  },
  {
   "cell_type": "code",
   "execution_count": 64,
   "metadata": {
    "ExecuteTime": {
     "end_time": "2020-03-16T03:10:45.121691Z",
     "start_time": "2020-03-16T03:10:45.109692Z"
    }
   },
   "outputs": [],
   "source": [
    "# Collect results\n",
    "train_loss = model.history.history[\"loss\"]\n",
    "valid_loss = model.history.history[\"val_loss\"]\n",
    "train_acc = model.history.history[\"accuracy\"]\n",
    "valid_acc = model.history.history[\"val_accuracy\"]"
   ]
  },
  {
   "cell_type": "code",
   "execution_count": 65,
   "metadata": {
    "ExecuteTime": {
     "end_time": "2020-03-16T03:10:45.453815Z",
     "start_time": "2020-03-16T03:10:45.438794Z"
    },
    "scrolled": true
   },
   "outputs": [],
   "source": [
    "\"\"\"Code Here\n",
    "將 tp/tn 從訓練完的模型中取出\n",
    "\"\"\"\n",
    "valid_tp = model.history.history['val_tp']\n",
    "valid_tn = model.history.history['val_tn']"
   ]
  },
  {
   "cell_type": "code",
   "execution_count": 66,
   "metadata": {
    "ExecuteTime": {
     "end_time": "2020-03-16T03:10:49.202268Z",
     "start_time": "2020-03-16T03:10:45.883931Z"
    }
   },
   "outputs": [
    {
     "data": {
      "image/png": "[encoded data removed]",
      "text/plain": [
       "<Figure size 432x288 with 1 Axes>"
      ]
     },
     "metadata": {
      "needs_background": "light"
     },
     "output_type": "display_data"
    },
    {
     "data": {
      "image/png": "[encoded data removed]",
      "text/plain": [
       "<Figure size 432x288 with 1 Axes>"
      ]
     },
     "metadata": {
      "needs_background": "light"
     },
     "output_type": "display_data"
    },
    {
     "data": {
      "image/png": "[encoded data removed]",
      "text/plain": [
       "<Figure size 432x288 with 1 Axes>"
      ]
     },
     "metadata": {
      "needs_background": "light"
     },
     "output_type": "display_data"
    }
   ],
   "source": [
    "import matplotlib.pyplot as plt\n",
    "%matplotlib inline\n",
    "\n",
    "plt.plot(range(len(train_loss)), train_loss, label=\"train loss\")\n",
    "plt.plot(range(len(valid_loss)), valid_loss, label=\"valid loss\")\n",
    "plt.legend()\n",
    "plt.title(\"Loss\")\n",
    "plt.show()\n",
    "\n",
    "plt.plot(range(len(train_acc)), train_acc, label=\"train accuracy\")\n",
    "plt.plot(range(len(valid_acc)), valid_acc, label=\"valid accuracy\")\n",
    "plt.legend()\n",
    "plt.title(\"Accuracy\")\n",
    "plt.show()\n",
    "\n",
    "plt.plot(range(len(valid_tp)), valid_tp, label=\"valid tp\", color=\"navy\")\n",
    "plt.plot(range(len(valid_tn)), valid_tn, label=\"valid tn\", color=\"red\")\n",
    "plt.legend()\n",
    "plt.title(\"True positives and True Negatives\")\n",
    "plt.show()\n"
   ]
  },
  {
   "cell_type": "code",
   "execution_count": null,
   "metadata": {},
   "outputs": [],
   "source": []
  }
 ],
 "metadata": {
  "kernelspec": {
   "display_name": "Python 3",
   "language": "python",
   "name": "python3"
  },
  "language_info": {
   "codemirror_mode": {
    "name": "ipython",
    "version": 3
   },
   "file_extension": ".py",
   "mimetype": "text/x-python",
   "name": "python",
   "nbconvert_exporter": "python",
   "pygments_lexer": "ipython3",
   "version": "3.6.10"
  },
  "toc": {
   "base_numbering": 1,
   "nav_menu": {},
   "number_sections": true,
   "sideBar": true,
   "skip_h1_title": false,
   "title_cell": "Table of Contents",
   "title_sidebar": "Contents",
   "toc_cell": false,
   "toc_position": {},
   "toc_section_display": true,
   "toc_window_display": false
  },
  "varInspector": {
   "cols": {
    "lenName": 16,
    "lenType": 16,
    "lenVar": 40
   },
   "kernels_config": {
    "python": {
     "delete_cmd_postfix": "",
     "delete_cmd_prefix": "del ",
     "library": "var_list.py",
     "varRefreshCmd": "print(var_dic_list())"
    },
    "r": {
     "delete_cmd_postfix": ") ",
     "delete_cmd_prefix": "rm(",
     "library": "var_list.r",
     "varRefreshCmd": "cat(var_dic_list()) "
    }
   },
   "types_to_exclude": [
    "module",
    "function",
    "builtin_function_or_method",
    "instance",
    "_Feature"
   ],
   "window_display": false
  }
 },
 "nbformat": 4,
 "nbformat_minor": 2
}
