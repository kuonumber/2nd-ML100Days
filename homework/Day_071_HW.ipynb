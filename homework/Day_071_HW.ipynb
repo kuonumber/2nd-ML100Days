{
 "cells": [
  {
   "cell_type": "markdown",
   "metadata": {
    "colab_type": "text",
    "id": "cj4tE8e8iUtO"
   },
   "source": [
    "#   \n",
    "\n",
    "# 作業目標:\n",
    "\n",
    "    1. 藉由固定的 dataset, 來驗證不同loss function\n",
    "    2. Dataset 的特性跟我們選用的loss function 對accrancy 的影響\n",
    "    \n",
    "    \n",
    "# 作業重點: \n",
    "    請分別選用 \"MSE\", \"binary _crossentropy\"\n",
    "    查看Train/test accurancy and loss rate\n",
    "    "
   ]
  },
  {
   "cell_type": "markdown",
   "metadata": {
    "colab_type": "text",
    "id": "R51J4KyyiUsL"
   },
   "source": [
    "# 導入必要的函數"
   ]
  },
  {
   "cell_type": "code",
   "execution_count": 2,
   "metadata": {
    "colab": {},
    "colab_type": "code",
    "id": "Qd68OQjciUsM"
   },
   "outputs": [],
   "source": [
    "from keras.datasets import cifar10\n",
    "import numpy as np\n",
    "np.random.seed(10)\n",
    "import keras"
   ]
  },
  {
   "cell_type": "markdown",
   "metadata": {
    "colab_type": "text",
    "id": "GxKuzQLQiUsP"
   },
   "source": [
    "# 資料準備"
   ]
  },
  {
   "cell_type": "code",
   "execution_count": 3,
   "metadata": {
    "colab": {},
    "colab_type": "code",
    "id": "MIbFZdTCiUsQ"
   },
   "outputs": [],
   "source": [
    "#取得Keras Dataset\n",
    "(x_img_train,y_label_train),(x_img_test,y_label_test)=cifar10.load_data()"
   ]
  },
  {
   "cell_type": "code",
   "execution_count": 4,
   "metadata": {
    "colab": {},
    "colab_type": "code",
    "id": "J8CJVjNOiUsS"
   },
   "outputs": [
    {
     "name": "stdout",
     "output_type": "stream",
     "text": [
      "train data: images: (50000, 32, 32, 3)  labels: (50000, 1)\n",
      "test  data: images: (10000, 32, 32, 3)  labels: (10000, 1)\n"
     ]
    }
   ],
   "source": [
    "#確認 CIFAR10 Dataset 資料維度\n",
    "print(\"train data:\",'images:',x_img_train.shape,\n",
    "      \" labels:\",y_label_train.shape) \n",
    "print(\"test  data:\",'images:',x_img_test.shape ,\n",
    "      \" labels:\",y_label_test.shape) "
   ]
  },
  {
   "cell_type": "code",
   "execution_count": 5,
   "metadata": {
    "colab": {},
    "colab_type": "code",
    "id": "V3P6P4DXiUsV"
   },
   "outputs": [],
   "source": [
    "#資料正規化\n",
    "x_img_train_normalize = x_img_train.astype('float32') / 255.0\n",
    "x_img_test_normalize = x_img_test.astype('float32') / 255.0"
   ]
  },
  {
   "cell_type": "code",
   "execution_count": 6,
   "metadata": {
    "colab": {},
    "colab_type": "code",
    "id": "vsDyjKYliUsX"
   },
   "outputs": [
    {
     "data": {
      "text/plain": [
       "(10000, 10)"
      ]
     },
     "execution_count": 6,
     "metadata": {},
     "output_type": "execute_result"
    }
   ],
   "source": [
    "#針對Label 做 ONE HOT ENCODE\n",
    "from keras.utils import np_utils\n",
    "y_label_train_OneHot = np_utils.to_categorical(y_label_train)\n",
    "y_label_test_OneHot = np_utils.to_categorical(y_label_test)\n",
    "y_label_test_OneHot.shape"
   ]
  },
  {
   "cell_type": "markdown",
   "metadata": {
    "colab_type": "text",
    "id": "RutW2OtgiUsZ"
   },
   "source": [
    "# 建立模型"
   ]
  },
  {
   "cell_type": "code",
   "execution_count": 7,
   "metadata": {
    "colab": {},
    "colab_type": "code",
    "id": "aHz592aXiUsa"
   },
   "outputs": [],
   "source": [
    "from keras.models import Sequential\n",
    "from keras.layers import Dense, Dropout, Activation, Flatten\n",
    "from keras.layers import Conv2D, MaxPooling2D, ZeroPadding2D"
   ]
  },
  {
   "cell_type": "code",
   "execution_count": 8,
   "metadata": {
    "colab": {},
    "colab_type": "code",
    "id": "hslqrIp0iUse"
   },
   "outputs": [],
   "source": [
    "model = Sequential()"
   ]
  },
  {
   "cell_type": "code",
   "execution_count": 9,
   "metadata": {
    "colab": {},
    "colab_type": "code",
    "id": "Hqe35hs2iUsi"
   },
   "outputs": [],
   "source": [
    "#卷積層1"
   ]
  },
  {
   "cell_type": "code",
   "execution_count": 10,
   "metadata": {
    "colab": {},
    "colab_type": "code",
    "id": "ED7dqe1YiUsm"
   },
   "outputs": [],
   "source": [
    "model.add(Conv2D(filters=32,kernel_size=(3,3),\n",
    "                 input_shape=(32, 32,3), \n",
    "                 activation='relu', \n",
    "                 padding='same'))"
   ]
  },
  {
   "cell_type": "code",
   "execution_count": 11,
   "metadata": {
    "colab": {},
    "colab_type": "code",
    "id": "n-GRKmPViUso"
   },
   "outputs": [],
   "source": [
    "model.add(Dropout(rate=0.25))"
   ]
  },
  {
   "cell_type": "code",
   "execution_count": 12,
   "metadata": {
    "colab": {},
    "colab_type": "code",
    "id": "GlWnnD1uiUsw"
   },
   "outputs": [],
   "source": [
    "model.add(MaxPooling2D(pool_size=(2, 2)))"
   ]
  },
  {
   "cell_type": "code",
   "execution_count": 13,
   "metadata": {
    "colab": {},
    "colab_type": "code",
    "id": "nawlkt55iUsy"
   },
   "outputs": [],
   "source": [
    "#卷積層2與池化層2"
   ]
  },
  {
   "cell_type": "code",
   "execution_count": 14,
   "metadata": {
    "colab": {},
    "colab_type": "code",
    "id": "xxyETiKNiUs1"
   },
   "outputs": [],
   "source": [
    "model.add(Conv2D(filters=64, kernel_size=(3, 3), \n",
    "                 activation='relu', padding='same'))"
   ]
  },
  {
   "cell_type": "code",
   "execution_count": 15,
   "metadata": {
    "colab": {},
    "colab_type": "code",
    "id": "RqcKWtqGiUs2"
   },
   "outputs": [],
   "source": [
    "model.add(Dropout(0.25))"
   ]
  },
  {
   "cell_type": "code",
   "execution_count": 16,
   "metadata": {
    "colab": {},
    "colab_type": "code",
    "id": "BUOOzlqfiUs4"
   },
   "outputs": [],
   "source": [
    "model.add(MaxPooling2D(pool_size=(2, 2)))"
   ]
  },
  {
   "cell_type": "code",
   "execution_count": 17,
   "metadata": {
    "colab": {},
    "colab_type": "code",
    "id": "LpkppB2siUs7"
   },
   "outputs": [],
   "source": [
    "#建立神經網路(平坦層、隱藏層、輸出層)"
   ]
  },
  {
   "cell_type": "code",
   "execution_count": 18,
   "metadata": {
    "colab": {},
    "colab_type": "code",
    "id": "UQOfU54_iUs_"
   },
   "outputs": [],
   "source": [
    "model.add(Flatten())\n",
    "model.add(Dropout(rate=0.25))"
   ]
  },
  {
   "cell_type": "code",
   "execution_count": 19,
   "metadata": {
    "colab": {},
    "colab_type": "code",
    "id": "_NV-8sq4iUtD"
   },
   "outputs": [],
   "source": [
    "model.add(Dense(1024, activation='relu'))\n",
    "model.add(Dropout(rate=0.25))"
   ]
  },
  {
   "cell_type": "code",
   "execution_count": 20,
   "metadata": {
    "colab": {},
    "colab_type": "code",
    "id": "qVK77krOiUtF"
   },
   "outputs": [],
   "source": [
    "model.add(Dense(10, activation='softmax'))"
   ]
  },
  {
   "cell_type": "code",
   "execution_count": 21,
   "metadata": {
    "colab": {},
    "colab_type": "code",
    "id": "ZxzRIjR0iUtH"
   },
   "outputs": [
    {
     "name": "stdout",
     "output_type": "stream",
     "text": [
      "Model: \"sequential_1\"\n",
      "_________________________________________________________________\n",
      "Layer (type)                 Output Shape              Param #   \n",
      "=================================================================\n",
      "conv2d_1 (Conv2D)            (None, 32, 32, 32)        896       \n",
      "_________________________________________________________________\n",
      "dropout_1 (Dropout)          (None, 32, 32, 32)        0         \n",
      "_________________________________________________________________\n",
      "max_pooling2d_1 (MaxPooling2 (None, 16, 16, 32)        0         \n",
      "_________________________________________________________________\n",
      "conv2d_2 (Conv2D)            (None, 16, 16, 64)        18496     \n",
      "_________________________________________________________________\n",
      "dropout_2 (Dropout)          (None, 16, 16, 64)        0         \n",
      "_________________________________________________________________\n",
      "max_pooling2d_2 (MaxPooling2 (None, 8, 8, 64)          0         \n",
      "_________________________________________________________________\n",
      "flatten_1 (Flatten)          (None, 4096)              0         \n",
      "_________________________________________________________________\n",
      "dropout_3 (Dropout)          (None, 4096)              0         \n",
      "_________________________________________________________________\n",
      "dense_1 (Dense)              (None, 1024)              4195328   \n",
      "_________________________________________________________________\n",
      "dropout_4 (Dropout)          (None, 1024)              0         \n",
      "_________________________________________________________________\n",
      "dense_2 (Dense)              (None, 10)                10250     \n",
      "=================================================================\n",
      "Total params: 4,224,970\n",
      "Trainable params: 4,224,970\n",
      "Non-trainable params: 0\n",
      "_________________________________________________________________\n",
      "None\n"
     ]
    }
   ],
   "source": [
    "#檢查model 的STACK\n",
    "print(model.summary())"
   ]
  },
  {
   "cell_type": "markdown",
   "metadata": {
    "colab_type": "text",
    "id": "QJCtpJM0iUtJ"
   },
   "source": [
    "# 載入之前訓練的模型"
   ]
  },
  {
   "cell_type": "code",
   "execution_count": 23,
   "metadata": {
    "colab": {},
    "colab_type": "code",
    "id": "JU3A6NzQiUtK"
   },
   "outputs": [
    {
     "name": "stdout",
     "output_type": "stream",
     "text": [
      "載入模型失敗!開始訓練一個新模型\n"
     ]
    }
   ],
   "source": [
    "try:\n",
    "    model.load_weights(\"SaveModel/cifarCnnModel.h5\")\n",
    "    print(\"載入模型成功!繼續訓練模型\")\n",
    "except :    \n",
    "    print(\"載入模型失敗!開始訓練一個新模型\")"
   ]
  },
  {
   "cell_type": "markdown",
   "metadata": {
    "colab_type": "text",
    "id": "qBbCuziziUtM"
   },
   "source": [
    "# 訓練模型"
   ]
  },
  {
   "cell_type": "code",
   "execution_count": 24,
   "metadata": {
    "colab": {},
    "colab_type": "code",
    "id": "Q6BiBcseiUtP"
   },
   "outputs": [
    {
     "data": {
      "text/plain": [
       "'\\n作業:\\n請分別選用 \"MSE\", \"binary _crossentropy\"\\n查看Train/test accurancy and loss rate\\n'"
      ]
     },
     "execution_count": 24,
     "metadata": {},
     "output_type": "execute_result"
    }
   ],
   "source": [
    "model.compile(loss='categorical_crossentropy', optimizer='sgd', metrics=['accuracy'])\n",
    "\n",
    "'''\n",
    "作業:\n",
    "請分別選用 \"MSE\", \"binary_crossentropy\"\n",
    "查看Train/test accurancy and loss rate\n",
    "'''"
   ]
  },
  {
   "cell_type": "code",
   "execution_count": 26,
   "metadata": {
    "colab": {},
    "colab_type": "code",
    "id": "4-GdDgmQiUtS"
   },
   "outputs": [
    {
     "name": "stdout",
     "output_type": "stream",
     "text": [
      "Train on 37500 samples, validate on 12500 samples\n",
      "Epoch 1/12\n",
      "37500/37500 [==============================] - 42s 1ms/step - loss: 2.1673 - accuracy: 0.1963 - val_loss: 2.0490 - val_accuracy: 0.2937\n",
      "Epoch 2/12\n",
      "37500/37500 [==============================] - 38s 1ms/step - loss: 1.9531 - accuracy: 0.2998 - val_loss: 1.9368 - val_accuracy: 0.3500\n",
      "Epoch 3/12\n",
      "37500/37500 [==============================] - 37s 992us/step - loss: 1.8284 - accuracy: 0.3482 - val_loss: 1.8377 - val_accuracy: 0.3788\n",
      "Epoch 4/12\n",
      "37500/37500 [==============================] - 38s 1ms/step - loss: 1.7213 - accuracy: 0.3865 - val_loss: 1.7356 - val_accuracy: 0.4281\n",
      "Epoch 5/12\n",
      "37500/37500 [==============================] - 39s 1ms/step - loss: 1.6380 - accuracy: 0.4152 - val_loss: 1.6699 - val_accuracy: 0.4374\n",
      "Epoch 6/12\n",
      "37500/37500 [==============================] - 37s 998us/step - loss: 1.5700 - accuracy: 0.4387 - val_loss: 1.5875 - val_accuracy: 0.4741\n",
      "Epoch 7/12\n",
      "37500/37500 [==============================] - 38s 1ms/step - loss: 1.5151 - accuracy: 0.4568 - val_loss: 1.5437 - val_accuracy: 0.4880\n",
      "Epoch 8/12\n",
      "37500/37500 [==============================] - 37s 981us/step - loss: 1.4714 - accuracy: 0.4737 - val_loss: 1.5113 - val_accuracy: 0.5031\n",
      "Epoch 9/12\n",
      "37500/37500 [==============================] - 37s 981us/step - loss: 1.4354 - accuracy: 0.4837 - val_loss: 1.5020 - val_accuracy: 0.5079\n",
      "Epoch 10/12\n",
      "37500/37500 [==============================] - 38s 1ms/step - loss: 1.4023 - accuracy: 0.4971 - val_loss: 1.4407 - val_accuracy: 0.5223\n",
      "Epoch 11/12\n",
      "37500/37500 [==============================] - 37s 995us/step - loss: 1.3725 - accuracy: 0.5095 - val_loss: 1.4155 - val_accuracy: 0.5295\n",
      "Epoch 12/12\n",
      "37500/37500 [==============================] - 37s 1000us/step - loss: 1.3483 - accuracy: 0.5156 - val_loss: 1.4029 - val_accuracy: 0.5359\n"
     ]
    }
   ],
   "source": [
    "train_history=model.fit(x_img_train_normalize, y_label_train_OneHot,\n",
    "                        validation_split=0.25,\n",
    "                        epochs=12, batch_size=128, verbose=1)         \n"
   ]
  },
  {
   "cell_type": "code",
   "execution_count": 27,
   "metadata": {},
   "outputs": [],
   "source": [
    "model.compile(loss='MSE', optimizer='sgd', metrics=['accuracy'])\n"
   ]
  },
  {
   "cell_type": "code",
   "execution_count": 28,
   "metadata": {},
   "outputs": [
    {
     "name": "stdout",
     "output_type": "stream",
     "text": [
      "Train on 37500 samples, validate on 12500 samples\n",
      "Epoch 1/12\n",
      "37500/37500 [==============================] - 41s 1ms/step - loss: 0.0605 - accuracy: 0.5332 - val_loss: 0.0632 - val_accuracy: 0.5482\n",
      "Epoch 2/12\n",
      "37500/37500 [==============================] - 41s 1ms/step - loss: 0.0605 - accuracy: 0.5319 - val_loss: 0.0629 - val_accuracy: 0.5474\n",
      "Epoch 3/12\n",
      "37500/37500 [==============================] - 40s 1ms/step - loss: 0.0601 - accuracy: 0.5362 - val_loss: 0.0629 - val_accuracy: 0.5459\n",
      "Epoch 4/12\n",
      "37500/37500 [==============================] - 40s 1ms/step - loss: 0.0601 - accuracy: 0.5367 - val_loss: 0.0628 - val_accuracy: 0.5462\n",
      "Epoch 5/12\n",
      "37500/37500 [==============================] - 40s 1ms/step - loss: 0.0601 - accuracy: 0.5362 - val_loss: 0.0626 - val_accuracy: 0.5499\n",
      "Epoch 6/12\n",
      "37500/37500 [==============================] - 40s 1ms/step - loss: 0.0600 - accuracy: 0.5354 - val_loss: 0.0625 - val_accuracy: 0.5510\n",
      "Epoch 7/12\n",
      "37500/37500 [==============================] - 40s 1ms/step - loss: 0.0600 - accuracy: 0.5368 - val_loss: 0.0624 - val_accuracy: 0.5500\n",
      "Epoch 8/12\n",
      "37500/37500 [==============================] - 40s 1ms/step - loss: 0.0598 - accuracy: 0.5385 - val_loss: 0.0624 - val_accuracy: 0.5497\n",
      "Epoch 9/12\n",
      "37500/37500 [==============================] - 41s 1ms/step - loss: 0.0597 - accuracy: 0.5393 - val_loss: 0.0623 - val_accuracy: 0.5526\n",
      "Epoch 10/12\n",
      "37500/37500 [==============================] - 41s 1ms/step - loss: 0.0598 - accuracy: 0.5383 - val_loss: 0.0623 - val_accuracy: 0.5506\n",
      "Epoch 11/12\n",
      "37500/37500 [==============================] - 40s 1ms/step - loss: 0.0597 - accuracy: 0.5371 - val_loss: 0.0623 - val_accuracy: 0.5507\n",
      "Epoch 12/12\n",
      "37500/37500 [==============================] - 40s 1ms/step - loss: 0.0597 - accuracy: 0.5374 - val_loss: 0.0622 - val_accuracy: 0.5516\n"
     ]
    }
   ],
   "source": [
    "train_history=model.fit(x_img_train_normalize, y_label_train_OneHot,\n",
    "                        validation_split=0.25,\n",
    "                        epochs=12, batch_size=128, verbose=1)         \n"
   ]
  },
  {
   "cell_type": "code",
   "execution_count": 29,
   "metadata": {},
   "outputs": [],
   "source": [
    "model.compile(loss='binary_crossentropy', optimizer='sgd', metrics=['accuracy'])\n"
   ]
  },
  {
   "cell_type": "code",
   "execution_count": 30,
   "metadata": {},
   "outputs": [
    {
     "name": "stdout",
     "output_type": "stream",
     "text": [
      "Train on 37500 samples, validate on 12500 samples\n",
      "Epoch 1/12\n",
      "37500/37500 [==============================] - 41s 1ms/step - loss: 0.2020 - accuracy: 0.9207 - val_loss: 0.2118 - val_accuracy: 0.9155\n",
      "Epoch 2/12\n",
      "37500/37500 [==============================] - 40s 1ms/step - loss: 0.2018 - accuracy: 0.9204 - val_loss: 0.2113 - val_accuracy: 0.9157\n",
      "Epoch 3/12\n",
      "37500/37500 [==============================] - 40s 1ms/step - loss: 0.2008 - accuracy: 0.9213 - val_loss: 0.2109 - val_accuracy: 0.9159\n",
      "Epoch 4/12\n",
      "37500/37500 [==============================] - 40s 1ms/step - loss: 0.2005 - accuracy: 0.9214 - val_loss: 0.2113 - val_accuracy: 0.9157\n",
      "Epoch 5/12\n",
      "37500/37500 [==============================] - 40s 1ms/step - loss: 0.1999 - accuracy: 0.9214 - val_loss: 0.2102 - val_accuracy: 0.9162\n",
      "Epoch 6/12\n",
      "37500/37500 [==============================] - 40s 1ms/step - loss: 0.1998 - accuracy: 0.9216 - val_loss: 0.2091 - val_accuracy: 0.9167\n",
      "Epoch 7/12\n",
      "37500/37500 [==============================] - 40s 1ms/step - loss: 0.1993 - accuracy: 0.9214 - val_loss: 0.2099 - val_accuracy: 0.9162\n",
      "Epoch 8/12\n",
      "37500/37500 [==============================] - 41s 1ms/step - loss: 0.1987 - accuracy: 0.9220 - val_loss: 0.2093 - val_accuracy: 0.9167\n",
      "Epoch 9/12\n",
      "37500/37500 [==============================] - 41s 1ms/step - loss: 0.1983 - accuracy: 0.9217 - val_loss: 0.2092 - val_accuracy: 0.9167\n",
      "Epoch 10/12\n",
      "37500/37500 [==============================] - 40s 1ms/step - loss: 0.1981 - accuracy: 0.9221 - val_loss: 0.2080 - val_accuracy: 0.9173\n",
      "Epoch 11/12\n",
      "37500/37500 [==============================] - 40s 1ms/step - loss: 0.1971 - accuracy: 0.9228 - val_loss: 0.2083 - val_accuracy: 0.9173\n",
      "Epoch 12/12\n",
      "37500/37500 [==============================] - 40s 1ms/step - loss: 0.1975 - accuracy: 0.9221 - val_loss: 0.2076 - val_accuracy: 0.9177\n"
     ]
    }
   ],
   "source": [
    "train_history=model.fit(x_img_train_normalize, y_label_train_OneHot,\n",
    "                        validation_split=0.25,\n",
    "                        epochs=12, batch_size=128, verbose=1)         \n"
   ]
  },
  {
   "cell_type": "code",
   "execution_count": null,
   "metadata": {},
   "outputs": [],
   "source": []
  }
 ],
 "metadata": {
  "colab": {
   "name": "Day71-使用損失函數_HW.ipynb",
   "provenance": [],
   "version": "0.3.2"
  },
  "kernelspec": {
   "display_name": "Python 3",
   "language": "python",
   "name": "python3"
  },
  "language_info": {
   "codemirror_mode": {
    "name": "ipython",
    "version": 3
   },
   "file_extension": ".py",
   "mimetype": "text/x-python",
   "name": "python",
   "nbconvert_exporter": "python",
   "pygments_lexer": "ipython3",
   "version": "3.6.10"
  },
  "toc": {
   "base_numbering": 1,
   "nav_menu": {},
   "number_sections": true,
   "sideBar": true,
   "skip_h1_title": false,
   "title_cell": "Table of Contents",
   "title_sidebar": "Contents",
   "toc_cell": false,
   "toc_position": {},
   "toc_section_display": true,
   "toc_window_display": false
  },
  "varInspector": {
   "cols": {
    "lenName": 16,
    "lenType": 16,
    "lenVar": 40
   },
   "kernels_config": {
    "python": {
     "delete_cmd_postfix": "",
     "delete_cmd_prefix": "del ",
     "library": "var_list.py",
     "varRefreshCmd": "print(var_dic_list())"
    },
    "r": {
     "delete_cmd_postfix": ") ",
     "delete_cmd_prefix": "rm(",
     "library": "var_list.r",
     "varRefreshCmd": "cat(var_dic_list()) "
    }
   },
   "types_to_exclude": [
    "module",
    "function",
    "builtin_function_or_method",
    "instance",
    "_Feature"
   ],
   "window_display": false
  }
 },
 "nbformat": 4,
 "nbformat_minor": 1
}
